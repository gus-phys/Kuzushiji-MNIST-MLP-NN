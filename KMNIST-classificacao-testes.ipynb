{
 "cells": [
  {
   "cell_type": "markdown",
   "id": "643e311c-0d52-4836-b06e-90cb6d2f49b0",
   "metadata": {},
   "source": [
    "# Estudo da rede neural MLP como classificadora do dataset KMNIST"
   ]
  },
  {
   "cell_type": "markdown",
   "id": "35dd9beb-5e1b-46fb-8cda-8db02a8acbb1",
   "metadata": {},
   "source": [
    "## Bibliotecas"
   ]
  },
  {
   "cell_type": "code",
   "execution_count": 1,
   "id": "7e13f289-4ee0-4931-8f8c-4d2242c628c6",
   "metadata": {},
   "outputs": [],
   "source": [
    "import torch"
   ]
  },
  {
   "cell_type": "code",
   "execution_count": 2,
   "id": "ca1645a9-e1ff-44e1-864e-5ce57e32111c",
   "metadata": {},
   "outputs": [
    {
     "name": "stdout",
     "output_type": "stream",
     "text": [
      "Versão PyTorch:  1.9.0+cu111\n",
      "Usando GPU:  True\n",
      "GPU:  NVIDIA GeForce GTX 1660 Ti with Max-Q Design\n"
     ]
    }
   ],
   "source": [
    "#  Verificando a versão do PyTorch e se está usando GPU\n",
    "print('Versão PyTorch: ', torch.__version__)\n",
    "print('Usando GPU: ', torch.cuda.is_available())\n",
    "\n",
    "if torch.cuda.is_available():    \n",
    "    print('GPU: ',torch.cuda.get_device_name(torch.cuda.current_device()))"
   ]
  },
  {
   "cell_type": "markdown",
   "id": "14ae7483",
   "metadata": {},
   "source": [
    "## Fixando os parâmetros para carregar as imagens"
   ]
  },
  {
   "cell_type": "code",
   "execution_count": 3,
   "id": "7f05f8fc",
   "metadata": {},
   "outputs": [],
   "source": [
    "import torchvision.transforms as transforms\n",
    "import torchvision.datasets as dsets\n",
    "from torch import optim"
   ]
  },
  {
   "cell_type": "code",
   "execution_count": 4,
   "id": "06c081c2",
   "metadata": {},
   "outputs": [],
   "source": [
    "# Transform\n",
    "transform = transforms.Compose([\n",
    "#     transforms.RandomHorizontalFlip(p=0.5),\n",
    "    transforms.ToTensor()#,\n",
    "#     transforms.Normalize((0.5,), (0.5,))\n",
    "])\n",
    "\n",
    "# Batch size\n",
    "batch_size = 49"
   ]
  },
  {
   "cell_type": "markdown",
   "id": "ac11d982-bf8d-4286-8f6b-26efbd1f4e0a",
   "metadata": {},
   "source": [
    "## Leitura dos dados"
   ]
  },
  {
   "cell_type": "code",
   "execution_count": 5,
   "id": "8ecffb65-bdd2-4983-bf5f-7fad79e61030",
   "metadata": {},
   "outputs": [],
   "source": [
    "# Conjunto de treinamento\n",
    "trainset = dsets.KMNIST(root='~/data', train=True, transform=transform, download=True)\n",
    "trainloader = torch.utils.data.DataLoader(trainset, batch_size, shuffle=True)"
   ]
  },
  {
   "cell_type": "code",
   "execution_count": 6,
   "id": "148fdc1d",
   "metadata": {},
   "outputs": [],
   "source": [
    "# Conjunto de teste\n",
    "testset = dsets.KMNIST(root='~/data', train=False, transform=transform)\n",
    "testloader = torch.utils.data.DataLoader(testset, batch_size, shuffle=True)"
   ]
  },
  {
   "cell_type": "code",
   "execution_count": 7,
   "id": "1c41cf98-fef2-4406-9c3a-8f9b2f1ad133",
   "metadata": {},
   "outputs": [
    {
     "name": "stdout",
     "output_type": "stream",
     "text": [
      "> 60000 amostras de Treino e 10000 amostras de Teste\n"
     ]
    }
   ],
   "source": [
    "print(f\"> {len(trainset)} amostras de Treino e {len(testset)} amostras de Teste\")"
   ]
  },
  {
   "cell_type": "markdown",
   "id": "c286fbe1",
   "metadata": {},
   "source": [
    "## Plotando algumas imagens"
   ]
  },
  {
   "cell_type": "code",
   "execution_count": 8,
   "id": "5aa36fde",
   "metadata": {},
   "outputs": [],
   "source": [
    "import matplotlib.pyplot as plt"
   ]
  },
  {
   "cell_type": "code",
   "execution_count": 9,
   "id": "6bb4a404-a8b6-4b0f-95da-d71e2f70d707",
   "metadata": {},
   "outputs": [
    {
     "data": {
      "image/png": "[encoded data removed]",
      "text/plain": [
       "<Figure size 1200x400 with 8 Axes>"
      ]
     },
     "metadata": {},
     "output_type": "display_data"
    }
   ],
   "source": [
    "num_imagens = 8\n",
    "\n",
    "fig, axs = plt.subplots(1, num_imagens, figsize=(12,4))\n",
    "for i in range(num_imagens):\n",
    "    axs[i].imshow(trainset[i][0].reshape(28,28), cmap=plt.get_cmap(\"gray\"))\n",
    "\n",
    "plt.show()"
   ]
  },
  {
   "cell_type": "markdown",
   "id": "6e08070a",
   "metadata": {},
   "source": [
    "## Criando a rede"
   ]
  },
  {
   "cell_type": "code",
   "execution_count": 10,
   "id": "3c420d6c",
   "metadata": {},
   "outputs": [],
   "source": [
    "import torch.nn.functional as F\n",
    "from torch import nn"
   ]
  },
  {
   "cell_type": "code",
   "execution_count": 11,
   "id": "bf279c7e",
   "metadata": {},
   "outputs": [],
   "source": [
    "class ClassifierDropout(nn.Module):\n",
    "    def __init__(self):\n",
    "        super().__init__()\n",
    "        \n",
    "        self.fc1 = nn.Linear(784,392)\n",
    "        self.fc2 = nn.Linear(392,196)\n",
    "        self.fc3 = nn.Linear(196,98)\n",
    "        self.fc4 = nn.Linear(98,49)\n",
    "        self.fc5 = nn.Linear(49,10)\n",
    "        \n",
    "        self.dropout = nn.Dropout(p=0.2)\n",
    "        \n",
    "    def forward(self,x):\n",
    "        x = x.view(x.shape[0],-1)\n",
    "        \n",
    "        x = self.dropout(F.relu(self.fc1(x)))\n",
    "        x = self.dropout(F.relu(self.fc2(x)))\n",
    "        x = self.dropout(F.relu(self.fc3(x)))\n",
    "        x = self.dropout(F.relu(self.fc4(x)))\n",
    "        \n",
    "        x = F.log_softmax(self.fc5(x), dim=1)\n",
    "        \n",
    "        return x"
   ]
  },
  {
   "cell_type": "markdown",
   "id": "cd970978",
   "metadata": {},
   "source": [
    "## Fixando os hiperparâmetros"
   ]
  },
  {
   "cell_type": "code",
   "execution_count": 23,
   "id": "1be3e4b7",
   "metadata": {},
   "outputs": [],
   "source": [
    "model = ClassifierDropout()\n",
    "\n",
    "# Learning rate\n",
    "learning_rate = 0.01\n",
    "# Optimizer\n",
    "optimizer = torch.optim.SGD(model.parameters(), lr=learning_rate)\n",
    "# Criterion\n",
    "criterion = torch.nn.CrossEntropyLoss()\n",
    "# Epoch\n",
    "epochs = 15"
   ]
  },
  {
   "cell_type": "markdown",
   "id": "5559002c",
   "metadata": {},
   "source": [
    "## Treinando a rede"
   ]
  },
  {
   "cell_type": "code",
   "execution_count": 24,
   "id": "a7b9ea4a",
   "metadata": {},
   "outputs": [
    {
     "name": "stdout",
     "output_type": "stream",
     "text": [
      "Epoch: 1/15..  Training Loss: 2.298..  Test Loss: 2.288..  Test Accuracy: 0.109\n",
      "Epoch: 2/15..  Training Loss: 2.094..  Test Loss: 1.908..  Test Accuracy: 0.340\n",
      "Epoch: 3/15..  Training Loss: 1.398..  Test Loss: 1.464..  Test Accuracy: 0.510\n",
      "Epoch: 4/15..  Training Loss: 0.985..  Test Loss: 1.146..  Test Accuracy: 0.637\n",
      "Epoch: 5/15..  Training Loss: 0.739..  Test Loss: 0.997..  Test Accuracy: 0.683\n",
      "Epoch: 6/15..  Training Loss: 0.600..  Test Loss: 0.868..  Test Accuracy: 0.732\n",
      "Epoch: 7/15..  Training Loss: 0.501..  Test Loss: 0.750..  Test Accuracy: 0.774\n",
      "Epoch: 8/15..  Training Loss: 0.420..  Test Loss: 0.696..  Test Accuracy: 0.794\n",
      "Epoch: 9/15..  Training Loss: 0.366..  Test Loss: 0.615..  Test Accuracy: 0.823\n",
      "Epoch: 10/15..  Training Loss: 0.321..  Test Loss: 0.564..  Test Accuracy: 0.835\n",
      "Epoch: 11/15..  Training Loss: 0.284..  Test Loss: 0.526..  Test Accuracy: 0.850\n",
      "Epoch: 12/15..  Training Loss: 0.259..  Test Loss: 0.497..  Test Accuracy: 0.859\n",
      "Epoch: 13/15..  Training Loss: 0.235..  Test Loss: 0.474..  Test Accuracy: 0.864\n",
      "Epoch: 14/15..  Training Loss: 0.215..  Test Loss: 0.472..  Test Accuracy: 0.866\n",
      "Epoch: 15/15..  Training Loss: 0.196..  Test Loss: 0.465..  Test Accuracy: 0.869\n"
     ]
    }
   ],
   "source": [
    "train_losses, test_losses = [], []\n",
    "for e in range(epochs):\n",
    "    running_loss = 0\n",
    "    for image, label in trainloader:\n",
    "        \n",
    "        optimizer.zero_grad()\n",
    "        \n",
    "        log_ps = model(image)\n",
    "        loss = criterion(log_ps, label)\n",
    "        loss.backward()\n",
    "        optimizer.step()\n",
    "        \n",
    "        running_loss+=loss.item()\n",
    "        \n",
    "    else:\n",
    "        test_loss = 0\n",
    "        accuracy = 0\n",
    "        with torch.no_grad():\n",
    "            model.eval()\n",
    "            for image, label in testloader:         \n",
    "                \n",
    "                log_ps = model.forward(image)\n",
    "                prob = torch.exp(log_ps)\n",
    "                \n",
    "                test_loss+= criterion(log_ps, label)\n",
    "                k_prob, k_class = prob.topk(1, dim=1)\n",
    "                equals = k_class == label.view(*k_class.shape)\n",
    "                \n",
    "                accuracy+= torch.mean(equals.type(torch.FloatTensor))\n",
    "        \n",
    "        model.train()\n",
    "        \n",
    "    train_losses.append(running_loss/len(trainloader))\n",
    "    test_losses.append(test_loss/len(testloader))\n",
    "    \n",
    "    print(\"Epoch: {}/{}.. \".format(e+1, epochs),\n",
    "          \"Training Loss: {:.3f}.. \".format(train_losses[-1]),\n",
    "          \"Test Loss: {:.3f}.. \".format(test_losses[-1]),\n",
    "          \"Test Accuracy: {:.3f}\".format(accuracy/len(testloader)))"
   ]
  },
  {
   "cell_type": "markdown",
   "id": "29c5ce49",
   "metadata": {},
   "source": [
    "---"
   ]
  },
  {
   "cell_type": "markdown",
   "id": "fc29b083",
   "metadata": {},
   "source": [
    "## Avaliando a rede"
   ]
  },
  {
   "cell_type": "markdown",
   "id": "fdc3c5bd",
   "metadata": {},
   "source": [
    "### Gráfico de convergência"
   ]
  },
  {
   "cell_type": "code",
   "execution_count": 25,
   "id": "dc4d3b8c",
   "metadata": {},
   "outputs": [
    {
     "data": {
      "image/png": "[encoded data removed]",
      "text/plain": [
       "<Figure size 640x480 with 1 Axes>"
      ]
     },
     "metadata": {},
     "output_type": "display_data"
    }
   ],
   "source": [
    "plt.plot(train_losses, label='Train')\n",
    "plt.plot(test_losses, label='Validation')\n",
    "plt.legend()\n",
    "\n",
    "plt.title('The Learning Curves')\n",
    "plt.xlabel('Epoch')\n",
    "plt.ylabel('Loss')\n",
    "\n",
    "plt.show()"
   ]
  },
  {
   "cell_type": "markdown",
   "id": "6a20bf5e",
   "metadata": {},
   "source": [
    "### Amostra da probabilidade"
   ]
  },
  {
   "cell_type": "code",
   "execution_count": 15,
   "id": "2bc3256d",
   "metadata": {},
   "outputs": [
    {
     "data": {
      "image/png": "[encoded data removed]",
      "text/plain": [
       "<Figure size 432x648 with 2 Axes>"
      ]
     },
     "metadata": {
      "needs_background": "light"
     },
     "output_type": "display_data"
    }
   ],
   "source": [
    "%matplotlib inline\n",
    "import helper\n",
    "\n",
    "images, labels = next(iter(trainloader))\n",
    "\n",
    "img = images[0].view(1, 784)\n",
    "# desligando o gradiente para acelerar o processo\n",
    "with torch.no_grad():\n",
    "    logps = model(img)\n",
    "\n",
    "# As saidas da rede são o log da probabilidade.\n",
    "# Por isso precisamos fazer o exponencial para termos as probabilidades reais.\n",
    "ps = torch.exp(logps)\n",
    "helper.view_classify(img.view(1, 28, 28), ps)"
   ]
  },
  {
   "cell_type": "markdown",
   "id": "a2db15fa",
   "metadata": {},
   "source": [
    "### Acurácia"
   ]
  },
  {
   "cell_type": "code",
   "execution_count": 16,
   "id": "f19c78e5",
   "metadata": {},
   "outputs": [],
   "source": [
    "import pandas as pd\n",
    "from torch.autograd import Variable"
   ]
  },
  {
   "cell_type": "code",
   "execution_count": 17,
   "id": "403b7d0b",
   "metadata": {},
   "outputs": [],
   "source": [
    "predicted = []\n",
    "expected = []\n",
    "\n",
    "for image, label in testset:\n",
    "    image = Variable(image.view(-1, 28*28))\n",
    "    outputs = model(image)\n",
    "    _, prediction = torch.max(outputs.data, 1)\n",
    "    predicted.append(prediction.item())\n",
    "    expected.append(label)"
   ]
  },
  {
   "cell_type": "code",
   "execution_count": 18,
   "id": "8bce788e",
   "metadata": {},
   "outputs": [
    {
     "data": {
      "text/html": [
       "<div>\n",
       "<style scoped>\n",
       "    .dataframe tbody tr th:only-of-type {\n",
       "        vertical-align: middle;\n",
       "    }\n",
       "\n",
       "    .dataframe tbody tr th {\n",
       "        vertical-align: top;\n",
       "    }\n",
       "\n",
       "    .dataframe thead th {\n",
       "        text-align: right;\n",
       "    }\n",
       "</style>\n",
       "<table border=\"1\" class=\"dataframe\">\n",
       "  <thead>\n",
       "    <tr style=\"text-align: right;\">\n",
       "      <th></th>\n",
       "      <th>predicted</th>\n",
       "      <th>expected</th>\n",
       "    </tr>\n",
       "  </thead>\n",
       "  <tbody>\n",
       "    <tr>\n",
       "      <th>0</th>\n",
       "      <td>5</td>\n",
       "      <td>2</td>\n",
       "    </tr>\n",
       "    <tr>\n",
       "      <th>1</th>\n",
       "      <td>9</td>\n",
       "      <td>9</td>\n",
       "    </tr>\n",
       "    <tr>\n",
       "      <th>2</th>\n",
       "      <td>3</td>\n",
       "      <td>3</td>\n",
       "    </tr>\n",
       "    <tr>\n",
       "      <th>3</th>\n",
       "      <td>8</td>\n",
       "      <td>8</td>\n",
       "    </tr>\n",
       "    <tr>\n",
       "      <th>4</th>\n",
       "      <td>3</td>\n",
       "      <td>3</td>\n",
       "    </tr>\n",
       "    <tr>\n",
       "      <th>...</th>\n",
       "      <td>...</td>\n",
       "      <td>...</td>\n",
       "    </tr>\n",
       "    <tr>\n",
       "      <th>9995</th>\n",
       "      <td>9</td>\n",
       "      <td>4</td>\n",
       "    </tr>\n",
       "    <tr>\n",
       "      <th>9996</th>\n",
       "      <td>5</td>\n",
       "      <td>0</td>\n",
       "    </tr>\n",
       "    <tr>\n",
       "      <th>9997</th>\n",
       "      <td>9</td>\n",
       "      <td>9</td>\n",
       "    </tr>\n",
       "    <tr>\n",
       "      <th>9998</th>\n",
       "      <td>0</td>\n",
       "      <td>4</td>\n",
       "    </tr>\n",
       "    <tr>\n",
       "      <th>9999</th>\n",
       "      <td>6</td>\n",
       "      <td>2</td>\n",
       "    </tr>\n",
       "  </tbody>\n",
       "</table>\n",
       "<p>10000 rows × 2 columns</p>\n",
       "</div>"
      ],
      "text/plain": [
       "      predicted  expected\n",
       "0             5         2\n",
       "1             9         9\n",
       "2             3         3\n",
       "3             8         8\n",
       "4             3         3\n",
       "...         ...       ...\n",
       "9995          9         4\n",
       "9996          5         0\n",
       "9997          9         9\n",
       "9998          0         4\n",
       "9999          6         2\n",
       "\n",
       "[10000 rows x 2 columns]"
      ]
     },
     "execution_count": 18,
     "metadata": {},
     "output_type": "execute_result"
    }
   ],
   "source": [
    "results = pd.DataFrame({'predicted': predicted, 'expected':expected})\n",
    "results"
   ]
  },
  {
   "cell_type": "code",
   "execution_count": 19,
   "id": "926af9ce",
   "metadata": {},
   "outputs": [
    {
     "name": "stdout",
     "output_type": "stream",
     "text": [
      "Acurácia do modelo: 0.5021\n"
     ]
    }
   ],
   "source": [
    "accuracy = (results['predicted'] == results['expected']).sum()/len(results)\n",
    "print(f\"Acurácia do modelo: {accuracy}\")"
   ]
  },
  {
   "cell_type": "markdown",
   "id": "71117617",
   "metadata": {},
   "source": [
    "### Matriz de confusão"
   ]
  },
  {
   "cell_type": "code",
   "execution_count": 20,
   "id": "a96ea39c",
   "metadata": {},
   "outputs": [],
   "source": [
    "import seaborn as sns\n",
    "from sklearn.metrics import confusion_matrix"
   ]
  },
  {
   "cell_type": "code",
   "execution_count": 21,
   "id": "0feeee29",
   "metadata": {},
   "outputs": [
    {
     "data": {
      "image/png": "[encoded data removed]",
      "text/plain": [
       "<Figure size 720x504 with 2 Axes>"
      ]
     },
     "metadata": {
      "needs_background": "light"
     },
     "output_type": "display_data"
    }
   ],
   "source": [
    "cm = confusion_matrix(predicted, expected)\n",
    "df_cm = pd.DataFrame(cm)\n",
    "df_cm.index.name = \"Valores Reais\"\n",
    "df_cm.columns.name = \"Valor Estimados\"\n",
    "plt.figure(figsize = (10,7))\n",
    "sns.set(font_scale=1.2)\n",
    "sns.heatmap(df_cm, cmap=\"Blues\", annot=True, fmt=\"d\", annot_kws={\"size\": 10})\n",
    "plt.show()"
   ]
  },
  {
   "cell_type": "markdown",
   "id": "3c978a07",
   "metadata": {},
   "source": [
    "---"
   ]
  },
  {
   "cell_type": "markdown",
   "id": "75fa27e7",
   "metadata": {},
   "source": [
    "# Teste da rede sem `dropout`"
   ]
  },
  {
   "cell_type": "markdown",
   "id": "8d42f5ce",
   "metadata": {},
   "source": [
    "## Criando a rede"
   ]
  },
  {
   "cell_type": "code",
   "execution_count": 22,
   "id": "c9be7104",
   "metadata": {},
   "outputs": [],
   "source": [
    "import torch.nn.functional as F\n",
    "from torch import nn"
   ]
  },
  {
   "cell_type": "code",
   "execution_count": 23,
   "id": "86504870",
   "metadata": {},
   "outputs": [],
   "source": [
    "class Classifier(nn.Module):\n",
    "    def __init__(self):\n",
    "        super().__init__()\n",
    "        \n",
    "        self.fc1 = nn.Linear(784, 256)\n",
    "        self.fc2 = nn.Linear(256, 128)\n",
    "        self.fc3 = nn.Linear(128, 64)\n",
    "        self.fc4 = nn.Linear(64, 10)\n",
    "        \n",
    "    def forward(self, x):\n",
    "        # certificar que o tensor com as imagens foi 'achatado'\n",
    "        x = x.view(x.shape[0], -1)\n",
    "        \n",
    "        x = F.relu(self.fc1(x))\n",
    "        x = F.relu(self.fc2(x))\n",
    "        x = F.relu(self.fc3(x))\n",
    "        \n",
    "        x = F.log_softmax(self.fc4(x), dim=1)\n",
    "        \n",
    "        return x"
   ]
  },
  {
   "cell_type": "markdown",
   "id": "7f2b235d",
   "metadata": {},
   "source": [
    "## Fixando os hiperparâmetros"
   ]
  },
  {
   "cell_type": "code",
   "execution_count": 24,
   "id": "1f769479",
   "metadata": {},
   "outputs": [],
   "source": [
    "model = Classifier()\n",
    "\n",
    "# Learning rate\n",
    "learning_rate = 0.01\n",
    "# Optimizer\n",
    "optimizer = torch.optim.SGD(model.parameters(), lr=learning_rate)\n",
    "# Criterion\n",
    "criterion = torch.nn.CrossEntropyLoss()\n",
    "# Epoch\n",
    "epochs = 30"
   ]
  },
  {
   "cell_type": "markdown",
   "id": "ccb51b27",
   "metadata": {},
   "source": [
    "## Treinando a rede"
   ]
  },
  {
   "cell_type": "code",
   "execution_count": 25,
   "id": "b2065787",
   "metadata": {},
   "outputs": [
    {
     "name": "stdout",
     "output_type": "stream",
     "text": [
      "Epoch: 1/30..  Training Loss: 2.280..  Test Loss: 2.243..  Test Accuracy: 0.328\n",
      "Epoch: 2/30..  Training Loss: 1.854..  Test Loss: 1.865..  Test Accuracy: 0.374\n",
      "Epoch: 3/30..  Training Loss: 1.203..  Test Loss: 1.520..  Test Accuracy: 0.493\n",
      "Epoch: 4/30..  Training Loss: 0.941..  Test Loss: 1.364..  Test Accuracy: 0.538\n",
      "Epoch: 5/30..  Training Loss: 0.826..  Test Loss: 1.312..  Test Accuracy: 0.563\n",
      "Epoch: 6/30..  Training Loss: 0.753..  Test Loss: 1.253..  Test Accuracy: 0.583\n",
      "Epoch: 7/30..  Training Loss: 0.700..  Test Loss: 1.183..  Test Accuracy: 0.607\n",
      "Epoch: 8/30..  Training Loss: 0.653..  Test Loss: 1.135..  Test Accuracy: 0.623\n",
      "Epoch: 9/30..  Training Loss: 0.600..  Test Loss: 1.095..  Test Accuracy: 0.637\n",
      "Epoch: 10/30..  Training Loss: 0.545..  Test Loss: 1.002..  Test Accuracy: 0.670\n",
      "Epoch: 11/30..  Training Loss: 0.496..  Test Loss: 0.922..  Test Accuracy: 0.704\n",
      "Epoch: 12/30..  Training Loss: 0.454..  Test Loss: 0.859..  Test Accuracy: 0.727\n",
      "Epoch: 13/30..  Training Loss: 0.419..  Test Loss: 0.826..  Test Accuracy: 0.741\n",
      "Epoch: 14/30..  Training Loss: 0.389..  Test Loss: 0.799..  Test Accuracy: 0.750\n",
      "Epoch: 15/30..  Training Loss: 0.363..  Test Loss: 0.745..  Test Accuracy: 0.771\n",
      "Epoch: 16/30..  Training Loss: 0.340..  Test Loss: 0.747..  Test Accuracy: 0.762\n",
      "Epoch: 17/30..  Training Loss: 0.318..  Test Loss: 0.740..  Test Accuracy: 0.773\n",
      "Epoch: 18/30..  Training Loss: 0.300..  Test Loss: 0.688..  Test Accuracy: 0.789\n",
      "Epoch: 19/30..  Training Loss: 0.283..  Test Loss: 0.657..  Test Accuracy: 0.802\n",
      "Epoch: 20/30..  Training Loss: 0.268..  Test Loss: 0.656..  Test Accuracy: 0.796\n",
      "Epoch: 21/30..  Training Loss: 0.253..  Test Loss: 0.673..  Test Accuracy: 0.797\n",
      "Epoch: 22/30..  Training Loss: 0.242..  Test Loss: 0.632..  Test Accuracy: 0.812\n",
      "Epoch: 23/30..  Training Loss: 0.232..  Test Loss: 0.624..  Test Accuracy: 0.818\n",
      "Epoch: 24/30..  Training Loss: 0.220..  Test Loss: 0.639..  Test Accuracy: 0.811\n",
      "Epoch: 25/30..  Training Loss: 0.213..  Test Loss: 0.656..  Test Accuracy: 0.807\n",
      "Epoch: 26/30..  Training Loss: 0.202..  Test Loss: 0.585..  Test Accuracy: 0.829\n",
      "Epoch: 27/30..  Training Loss: 0.192..  Test Loss: 0.603..  Test Accuracy: 0.820\n",
      "Epoch: 28/30..  Training Loss: 0.187..  Test Loss: 0.592..  Test Accuracy: 0.826\n",
      "Epoch: 29/30..  Training Loss: 0.179..  Test Loss: 0.589..  Test Accuracy: 0.833\n",
      "Epoch: 30/30..  Training Loss: 0.174..  Test Loss: 0.558..  Test Accuracy: 0.842\n"
     ]
    }
   ],
   "source": [
    "steps = 0\n",
    "\n",
    "train_losses, test_losses = [], []\n",
    "for e in range(epochs):\n",
    "    running_loss = 0\n",
    "    for images, labels in trainloader:\n",
    "        \n",
    "        optimizer.zero_grad()\n",
    "        \n",
    "        log_ps = model(images)\n",
    "        loss = criterion(log_ps, labels)\n",
    "        loss.backward()\n",
    "        optimizer.step()\n",
    "        \n",
    "        running_loss += loss.item()\n",
    "        \n",
    "    else:\n",
    "        # else pode ser usado em laços tipo for no python, e só será executado se não cair em nenhum break\n",
    "        test_loss = 0\n",
    "        accuracy = 0\n",
    "        with torch.no_grad():\n",
    "            # passo de validação\n",
    "            for images, labels in testloader:\n",
    "                log_ps = model(images)\n",
    "                ps = torch.exp(log_ps)\n",
    "                \n",
    "                test_loss += criterion(log_ps, labels)  \n",
    "                top_p, top_class = ps.topk(1, dim=1)\n",
    "                equals = top_class == labels.view(*top_class.shape)\n",
    "                accuracy+= torch.mean(equals.type(torch.FloatTensor))\n",
    "                \n",
    "        train_losses.append(running_loss / len(trainloader))\n",
    "        test_losses.append(test_loss / len(testloader))\n",
    "                \n",
    "        print(\"Epoch: {}/{}.. \".format(e+1, epochs),\n",
    "              \"Training Loss: {:.3f}.. \".format(train_losses[-1]),\n",
    "              \"Test Loss: {:.3f}.. \".format(test_losses[-1]),\n",
    "              \"Test Accuracy: {:.3f}\".format(accuracy/len(testloader)))"
   ]
  },
  {
   "cell_type": "markdown",
   "id": "5cc9bf47",
   "metadata": {},
   "source": [
    "---"
   ]
  },
  {
   "cell_type": "markdown",
   "id": "b0cecabc",
   "metadata": {},
   "source": [
    "## Avaliando a rede"
   ]
  },
  {
   "cell_type": "markdown",
   "id": "e4316d82",
   "metadata": {},
   "source": [
    "### Gráfico de convergência"
   ]
  },
  {
   "cell_type": "code",
   "execution_count": 26,
   "id": "e360281f",
   "metadata": {},
   "outputs": [
    {
     "data": {
      "image/png": "[encoded data removed]",
      "text/plain": [
       "<Figure size 432x288 with 1 Axes>"
      ]
     },
     "metadata": {},
     "output_type": "display_data"
    }
   ],
   "source": [
    "plt.plot(train_losses, label='Train')\n",
    "plt.plot(test_losses, label='Validation')\n",
    "plt.legend()\n",
    "\n",
    "plt.title('The Learning Curves')\n",
    "plt.xlabel('Epoch')\n",
    "plt.ylabel('Loss')\n",
    "\n",
    "plt.show()"
   ]
  },
  {
   "cell_type": "markdown",
   "id": "c4d1f452",
   "metadata": {},
   "source": [
    "### Amostra da probabilidade"
   ]
  },
  {
   "cell_type": "code",
   "execution_count": 27,
   "id": "6af32049",
   "metadata": {},
   "outputs": [
    {
     "data": {
      "image/png": "[encoded data removed]",
      "text/plain": [
       "<Figure size 432x648 with 2 Axes>"
      ]
     },
     "metadata": {
      "needs_background": "light"
     },
     "output_type": "display_data"
    }
   ],
   "source": [
    "%matplotlib inline\n",
    "import helper\n",
    "\n",
    "images, labels = next(iter(trainloader))\n",
    "\n",
    "img = images[0].view(1, 784)\n",
    "# desligando o gradiente para acelerar o processo\n",
    "with torch.no_grad():\n",
    "    logps = model(img)\n",
    "\n",
    "# As saidas da rede são o log da probabilidade.\n",
    "# Por isso precisamos fazer o exponencial para termos as probabilidades reais.\n",
    "ps = torch.exp(logps)\n",
    "helper.view_classify(img.view(1, 28, 28), ps)"
   ]
  },
  {
   "cell_type": "markdown",
   "id": "e6da8742",
   "metadata": {},
   "source": [
    "### Acurácia"
   ]
  },
  {
   "cell_type": "code",
   "execution_count": 28,
   "id": "9df4a995",
   "metadata": {},
   "outputs": [],
   "source": [
    "import pandas as pd\n",
    "from torch.autograd import Variable"
   ]
  },
  {
   "cell_type": "code",
   "execution_count": 29,
   "id": "44805a24",
   "metadata": {},
   "outputs": [],
   "source": [
    "predicted = []\n",
    "expected = []\n",
    "\n",
    "for image, label in testset:\n",
    "    image = Variable(image.view(-1, 28*28))\n",
    "    outputs = model(image)\n",
    "    _, prediction = torch.max(outputs.data, 1)\n",
    "    predicted.append(prediction.item())\n",
    "    expected.append(label)"
   ]
  },
  {
   "cell_type": "code",
   "execution_count": 30,
   "id": "b21cdd96",
   "metadata": {},
   "outputs": [
    {
     "data": {
      "text/html": [
       "<div>\n",
       "<style scoped>\n",
       "    .dataframe tbody tr th:only-of-type {\n",
       "        vertical-align: middle;\n",
       "    }\n",
       "\n",
       "    .dataframe tbody tr th {\n",
       "        vertical-align: top;\n",
       "    }\n",
       "\n",
       "    .dataframe thead th {\n",
       "        text-align: right;\n",
       "    }\n",
       "</style>\n",
       "<table border=\"1\" class=\"dataframe\">\n",
       "  <thead>\n",
       "    <tr style=\"text-align: right;\">\n",
       "      <th></th>\n",
       "      <th>predicted</th>\n",
       "      <th>expected</th>\n",
       "    </tr>\n",
       "  </thead>\n",
       "  <tbody>\n",
       "    <tr>\n",
       "      <th>0</th>\n",
       "      <td>2</td>\n",
       "      <td>2</td>\n",
       "    </tr>\n",
       "    <tr>\n",
       "      <th>1</th>\n",
       "      <td>9</td>\n",
       "      <td>9</td>\n",
       "    </tr>\n",
       "    <tr>\n",
       "      <th>2</th>\n",
       "      <td>3</td>\n",
       "      <td>3</td>\n",
       "    </tr>\n",
       "    <tr>\n",
       "      <th>3</th>\n",
       "      <td>8</td>\n",
       "      <td>8</td>\n",
       "    </tr>\n",
       "    <tr>\n",
       "      <th>4</th>\n",
       "      <td>3</td>\n",
       "      <td>3</td>\n",
       "    </tr>\n",
       "    <tr>\n",
       "      <th>...</th>\n",
       "      <td>...</td>\n",
       "      <td>...</td>\n",
       "    </tr>\n",
       "    <tr>\n",
       "      <th>9995</th>\n",
       "      <td>4</td>\n",
       "      <td>4</td>\n",
       "    </tr>\n",
       "    <tr>\n",
       "      <th>9996</th>\n",
       "      <td>0</td>\n",
       "      <td>0</td>\n",
       "    </tr>\n",
       "    <tr>\n",
       "      <th>9997</th>\n",
       "      <td>9</td>\n",
       "      <td>9</td>\n",
       "    </tr>\n",
       "    <tr>\n",
       "      <th>9998</th>\n",
       "      <td>4</td>\n",
       "      <td>4</td>\n",
       "    </tr>\n",
       "    <tr>\n",
       "      <th>9999</th>\n",
       "      <td>1</td>\n",
       "      <td>2</td>\n",
       "    </tr>\n",
       "  </tbody>\n",
       "</table>\n",
       "<p>10000 rows × 2 columns</p>\n",
       "</div>"
      ],
      "text/plain": [
       "      predicted  expected\n",
       "0             2         2\n",
       "1             9         9\n",
       "2             3         3\n",
       "3             8         8\n",
       "4             3         3\n",
       "...         ...       ...\n",
       "9995          4         4\n",
       "9996          0         0\n",
       "9997          9         9\n",
       "9998          4         4\n",
       "9999          1         2\n",
       "\n",
       "[10000 rows x 2 columns]"
      ]
     },
     "execution_count": 30,
     "metadata": {},
     "output_type": "execute_result"
    }
   ],
   "source": [
    "results = pd.DataFrame({'predicted': predicted, 'expected':expected})\n",
    "results"
   ]
  },
  {
   "cell_type": "code",
   "execution_count": 31,
   "id": "9e4f0043",
   "metadata": {},
   "outputs": [
    {
     "name": "stdout",
     "output_type": "stream",
     "text": [
      "Acurácia do modelo: 0.8427\n"
     ]
    }
   ],
   "source": [
    "accuracy = (results['predicted'] == results['expected']).sum()/len(results)\n",
    "print(f\"Acurácia do modelo: {accuracy}\")"
   ]
  },
  {
   "cell_type": "markdown",
   "id": "e6e32d45",
   "metadata": {},
   "source": [
    "### Matriz de confusão"
   ]
  },
  {
   "cell_type": "code",
   "execution_count": 32,
   "id": "2e945675",
   "metadata": {},
   "outputs": [],
   "source": [
    "import seaborn as sns\n",
    "from sklearn.metrics import confusion_matrix"
   ]
  },
  {
   "cell_type": "code",
   "execution_count": 33,
   "id": "f63c0b68",
   "metadata": {},
   "outputs": [
    {
     "data": {
      "image/png": "[encoded data removed]",
      "text/plain": [
       "<Figure size 720x504 with 2 Axes>"
      ]
     },
     "metadata": {
      "needs_background": "light"
     },
     "output_type": "display_data"
    }
   ],
   "source": [
    "cm = confusion_matrix(predicted, expected)\n",
    "df_cm = pd.DataFrame(cm)\n",
    "df_cm.index.name = \"Valores Reais\"\n",
    "df_cm.columns.name = \"Valor Estimados\"\n",
    "plt.figure(figsize = (10,7))\n",
    "sns.set(font_scale=1.2)\n",
    "sns.heatmap(df_cm, cmap=\"Blues\", annot=True, fmt=\"d\", annot_kws={\"size\": 10})\n",
    "plt.show()"
   ]
  },
  {
   "cell_type": "code",
   "execution_count": null,
   "id": "e5305864",
   "metadata": {},
   "outputs": [],
   "source": []
  }
 ],
 "metadata": {
  "kernelspec": {
   "display_name": "Python 3",
   "language": "python",
   "name": "python3"
  },
  "language_info": {
   "codemirror_mode": {
    "name": "ipython",
    "version": 3
   },
   "file_extension": ".py",
   "mimetype": "text/x-python",
   "name": "python",
   "nbconvert_exporter": "python",
   "pygments_lexer": "ipython3",
   "version": "3.8.11"
  }
 },
 "nbformat": 4,
 "nbformat_minor": 5
}
