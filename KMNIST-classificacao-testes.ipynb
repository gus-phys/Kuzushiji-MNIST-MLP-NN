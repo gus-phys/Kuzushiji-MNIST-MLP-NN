{
 "cells": [
  {
   "cell_type": "markdown",
   "id": "643e311c-0d52-4836-b06e-90cb6d2f49b0",
   "metadata": {},
   "source": [
    "# Estudo da rede neural MLP como classificadora do dataset KMNIST"
   ]
  },
  {
   "cell_type": "markdown",
   "id": "35dd9beb-5e1b-46fb-8cda-8db02a8acbb1",
   "metadata": {},
   "source": [
    "## Bibliotecas"
   ]
  },
  {
   "cell_type": "code",
   "execution_count": 1,
   "id": "7e13f289-4ee0-4931-8f8c-4d2242c628c6",
   "metadata": {},
   "outputs": [],
   "source": [
    "import torch"
   ]
  },
  {
   "cell_type": "code",
   "execution_count": 2,
   "id": "ca1645a9-e1ff-44e1-864e-5ce57e32111c",
   "metadata": {},
   "outputs": [
    {
     "name": "stdout",
     "output_type": "stream",
     "text": [
      "Versão PyTorch:  1.9.0+cu111\n",
      "Usando GPU:  True\n",
      "GPU:  NVIDIA GeForce GTX 1660 Ti with Max-Q Design\n"
     ]
    }
   ],
   "source": [
    "#  Verificando a versão do PyTorch e se está usando GPU\n",
    "print('Versão PyTorch: ', torch.__version__)\n",
    "print('Usando GPU: ', torch.cuda.is_available())\n",
    "\n",
    "if torch.cuda.is_available():    \n",
    "    print('GPU: ',torch.cuda.get_device_name(torch.cuda.current_device()))"
   ]
  },
  {
   "cell_type": "markdown",
   "id": "14ae7483",
   "metadata": {},
   "source": [
    "## Fixando os parâmetros para carregar as imagens"
   ]
  },
  {
   "cell_type": "code",
   "execution_count": 3,
   "id": "7f05f8fc",
   "metadata": {},
   "outputs": [],
   "source": [
    "import torchvision.transforms as transforms\n",
    "import torchvision.datasets as dsets\n",
    "from torch import optim"
   ]
  },
  {
   "cell_type": "code",
   "execution_count": 4,
   "id": "06c081c2",
   "metadata": {},
   "outputs": [],
   "source": [
    "# Transform\n",
    "transform = transforms.Compose([\n",
    "#     transforms.RandomHorizontalFlip(p=0.5),\n",
    "    transforms.Grayscale(),\n",
    "    transforms.ToTensor(),\n",
    "    transforms.Normalize((0.5,), (0.5,))\n",
    "])\n",
    "\n",
    "# Batch size\n",
    "batch_size = 120"
   ]
  },
  {
   "cell_type": "markdown",
   "id": "ac11d982-bf8d-4286-8f6b-26efbd1f4e0a",
   "metadata": {},
   "source": [
    "## Leitura dos dados"
   ]
  },
  {
   "cell_type": "code",
   "execution_count": 5,
   "id": "8ecffb65-bdd2-4983-bf5f-7fad79e61030",
   "metadata": {},
   "outputs": [],
   "source": [
    "# Conjunto de treinamento\n",
    "trainset = dsets.KMNIST(root='~/data', train=True, transform=transform, download=True)\n",
    "trainloader = torch.utils.data.DataLoader(trainset, batch_size, shuffle=True)"
   ]
  },
  {
   "cell_type": "code",
   "execution_count": 6,
   "id": "148fdc1d",
   "metadata": {},
   "outputs": [],
   "source": [
    "# Conjunto de teste\n",
    "testset = dsets.KMNIST(root='~/data', train=False, transform=transform)\n",
    "testloader = torch.utils.data.DataLoader(testset, batch_size, shuffle=True)"
   ]
  },
  {
   "cell_type": "code",
   "execution_count": 7,
   "id": "1c41cf98-fef2-4406-9c3a-8f9b2f1ad133",
   "metadata": {},
   "outputs": [
    {
     "name": "stdout",
     "output_type": "stream",
     "text": [
      "> 60000 amostras de Treino e 10000 amostras de Teste\n"
     ]
    }
   ],
   "source": [
    "print(f\"> {len(trainset)} amostras de Treino e {len(testset)} amostras de Teste\")"
   ]
  },
  {
   "cell_type": "markdown",
   "id": "c286fbe1",
   "metadata": {},
   "source": [
    "## Plotando algumas imagens"
   ]
  },
  {
   "cell_type": "code",
   "execution_count": 8,
   "id": "5aa36fde",
   "metadata": {},
   "outputs": [],
   "source": [
    "import matplotlib.pyplot as plt"
   ]
  },
  {
   "cell_type": "code",
   "execution_count": 9,
   "id": "40be2cf6-eec5-45f0-b22c-5085630f1a0e",
   "metadata": {},
   "outputs": [],
   "source": [
    "labels_dict = {\n",
    "    0: u\"\\u304A\",\n",
    "    1: u\"\\u304D\",\n",
    "    2: u\"\\u3059\",\n",
    "    3: u\"\\u3064\",\n",
    "    4: u\"\\u306A\",\n",
    "    5: u\"\\u306F\",\n",
    "    6: u\"\\u307E\",\n",
    "    7: u\"\\u3084\",\n",
    "    8: u\"\\u308C\",\n",
    "    9: u\"\\u3093\"\n",
    "}"
   ]
  },
  {
   "cell_type": "code",
   "execution_count": 10,
   "id": "165c371b-8458-4aeb-bb59-2be46a5ea7b3",
   "metadata": {},
   "outputs": [
    {
     "name": "stdout",
     "output_type": "stream",
     "text": [
      "{0: 'お', 1: 'き', 2: 'す', 3: 'つ', 4: 'な', 5: 'は', 6: 'ま', 7: 'や', 8: 'れ', 9: 'ん'}\n"
     ]
    }
   ],
   "source": [
    "print(labels_dict)"
   ]
  },
  {
   "cell_type": "code",
   "execution_count": 11,
   "id": "ef94223e-255e-47c6-9453-8d1044077515",
   "metadata": {},
   "outputs": [
    {
     "data": {
      "image/png": "[encoded data removed]",
      "text/plain": [
       "<Figure size 1600x600 with 10 Axes>"
      ]
     },
     "metadata": {},
     "output_type": "display_data"
    }
   ],
   "source": [
    "rows, columns = 2, 5\n",
    "\n",
    "fig, axs = plt.subplots(rows, columns, figsize=(16,6))\n",
    "for i in range(rows):\n",
    "    for j in range(columns):\n",
    "        k = 5*i + j\n",
    "        axs[i,j].imshow(trainset[k][0].reshape(28,28), cmap=plt.get_cmap(\"gray\"))\n",
    "        axs[i,j].set_title(trainset[k][1])\n",
    "        axs[i,j].axis(\"off\")\n",
    "        axs[i,j].set_aspect(\"equal\")\n",
    "\n",
    "plt.show()"
   ]
  },
  {
   "cell_type": "markdown",
   "id": "6e08070a",
   "metadata": {},
   "source": [
    "## Criando a rede"
   ]
  },
  {
   "cell_type": "code",
   "execution_count": 12,
   "id": "3c420d6c",
   "metadata": {},
   "outputs": [],
   "source": [
    "import torch.nn.functional as F\n",
    "from torch import nn"
   ]
  },
  {
   "cell_type": "code",
   "execution_count": 13,
   "id": "bf279c7e",
   "metadata": {},
   "outputs": [],
   "source": [
    "class ClassifierDropout(nn.Module):\n",
    "    def __init__(self):\n",
    "        super().__init__()\n",
    "        \n",
    "        self.fc1 = nn.Linear(784,196)\n",
    "        self.fc2 = nn.Linear(196,196)\n",
    "        self.fc3 = nn.Linear(196,196)\n",
    "        self.fc4 = nn.Linear(196,49)\n",
    "        self.fc5 = nn.Linear(49,10)\n",
    "        \n",
    "        self.dropout = nn.Dropout(p=0.2)\n",
    "        \n",
    "    def forward(self,x):\n",
    "        x = x.view(x.shape[0],-1)\n",
    "        \n",
    "        x = self.dropout(F.relu(self.fc1(x)))\n",
    "        x = self.dropout(F.relu(self.fc2(x)))\n",
    "        x = self.dropout(F.relu(self.fc3(x)))\n",
    "        x = self.dropout(F.relu(self.fc4(x)))\n",
    "        \n",
    "        x = F.log_softmax(self.fc5(x), dim=1)\n",
    "        \n",
    "        return x"
   ]
  },
  {
   "cell_type": "markdown",
   "id": "cd970978",
   "metadata": {},
   "source": [
    "## Fixando os hiperparâmetros"
   ]
  },
  {
   "cell_type": "code",
   "execution_count": 14,
   "id": "1be3e4b7",
   "metadata": {},
   "outputs": [],
   "source": [
    "model = ClassifierDropout()\n",
    "\n",
    "# Learning rate\n",
    "learning_rate = 0.01\n",
    "# Optimizer\n",
    "optimizer = torch.optim.ASGD(model.parameters(), lr=learning_rate)\n",
    "# Criterion\n",
    "criterion = torch.nn.CrossEntropyLoss()\n",
    "# Epoch\n",
    "epochs = 50"
   ]
  },
  {
   "cell_type": "markdown",
   "id": "5559002c",
   "metadata": {},
   "source": [
    "## Treinando a rede"
   ]
  },
  {
   "cell_type": "code",
   "execution_count": 15,
   "id": "a7b9ea4a",
   "metadata": {},
   "outputs": [
    {
     "name": "stdout",
     "output_type": "stream",
     "text": [
      "Epoch: 1/50..  Training Loss: 2.296..  Test Loss: 2.283..  Test Accuracy: 0.214\n",
      "Epoch: 2/50..  Training Loss: 2.162..  Test Loss: 2.049..  Test Accuracy: 0.266\n",
      "Epoch: 3/50..  Training Loss: 1.709..  Test Loss: 1.613..  Test Accuracy: 0.475\n",
      "Epoch: 4/50..  Training Loss: 1.200..  Test Loss: 1.327..  Test Accuracy: 0.581\n",
      "Epoch: 5/50..  Training Loss: 0.954..  Test Loss: 1.172..  Test Accuracy: 0.631\n",
      "Epoch: 6/50..  Training Loss: 0.804..  Test Loss: 1.037..  Test Accuracy: 0.669\n",
      "Epoch: 7/50..  Training Loss: 0.704..  Test Loss: 0.936..  Test Accuracy: 0.705\n",
      "Epoch: 8/50..  Training Loss: 0.630..  Test Loss: 0.884..  Test Accuracy: 0.721\n",
      "Epoch: 9/50..  Training Loss: 0.568..  Test Loss: 0.818..  Test Accuracy: 0.744\n",
      "Epoch: 10/50..  Training Loss: 0.525..  Test Loss: 0.769..  Test Accuracy: 0.760\n",
      "Epoch: 11/50..  Training Loss: 0.480..  Test Loss: 0.728..  Test Accuracy: 0.775\n",
      "Epoch: 12/50..  Training Loss: 0.448..  Test Loss: 0.671..  Test Accuracy: 0.794\n",
      "Epoch: 13/50..  Training Loss: 0.418..  Test Loss: 0.663..  Test Accuracy: 0.799\n",
      "Epoch: 14/50..  Training Loss: 0.395..  Test Loss: 0.631..  Test Accuracy: 0.809\n",
      "Epoch: 15/50..  Training Loss: 0.371..  Test Loss: 0.619..  Test Accuracy: 0.814\n",
      "Epoch: 16/50..  Training Loss: 0.354..  Test Loss: 0.589..  Test Accuracy: 0.824\n",
      "Epoch: 17/50..  Training Loss: 0.337..  Test Loss: 0.564..  Test Accuracy: 0.832\n",
      "Epoch: 18/50..  Training Loss: 0.322..  Test Loss: 0.552..  Test Accuracy: 0.836\n",
      "Epoch: 19/50..  Training Loss: 0.304..  Test Loss: 0.553..  Test Accuracy: 0.841\n",
      "Epoch: 20/50..  Training Loss: 0.292..  Test Loss: 0.527..  Test Accuracy: 0.843\n",
      "Epoch: 21/50..  Training Loss: 0.274..  Test Loss: 0.514..  Test Accuracy: 0.848\n",
      "Epoch: 22/50..  Training Loss: 0.272..  Test Loss: 0.505..  Test Accuracy: 0.852\n",
      "Epoch: 23/50..  Training Loss: 0.264..  Test Loss: 0.495..  Test Accuracy: 0.854\n",
      "Epoch: 24/50..  Training Loss: 0.248..  Test Loss: 0.501..  Test Accuracy: 0.854\n",
      "Epoch: 25/50..  Training Loss: 0.243..  Test Loss: 0.491..  Test Accuracy: 0.858\n",
      "Epoch: 26/50..  Training Loss: 0.234..  Test Loss: 0.470..  Test Accuracy: 0.865\n",
      "Epoch: 27/50..  Training Loss: 0.226..  Test Loss: 0.490..  Test Accuracy: 0.859\n",
      "Epoch: 28/50..  Training Loss: 0.218..  Test Loss: 0.483..  Test Accuracy: 0.862\n",
      "Epoch: 29/50..  Training Loss: 0.214..  Test Loss: 0.467..  Test Accuracy: 0.865\n",
      "Epoch: 30/50..  Training Loss: 0.206..  Test Loss: 0.465..  Test Accuracy: 0.868\n",
      "Epoch: 31/50..  Training Loss: 0.202..  Test Loss: 0.459..  Test Accuracy: 0.867\n",
      "Epoch: 32/50..  Training Loss: 0.194..  Test Loss: 0.461..  Test Accuracy: 0.869\n",
      "Epoch: 33/50..  Training Loss: 0.191..  Test Loss: 0.447..  Test Accuracy: 0.874\n",
      "Epoch: 34/50..  Training Loss: 0.184..  Test Loss: 0.454..  Test Accuracy: 0.871\n",
      "Epoch: 35/50..  Training Loss: 0.180..  Test Loss: 0.440..  Test Accuracy: 0.874\n",
      "Epoch: 36/50..  Training Loss: 0.177..  Test Loss: 0.436..  Test Accuracy: 0.878\n",
      "Epoch: 37/50..  Training Loss: 0.173..  Test Loss: 0.447..  Test Accuracy: 0.874\n",
      "Epoch: 38/50..  Training Loss: 0.167..  Test Loss: 0.453..  Test Accuracy: 0.875\n",
      "Epoch: 39/50..  Training Loss: 0.163..  Test Loss: 0.435..  Test Accuracy: 0.880\n",
      "Epoch: 40/50..  Training Loss: 0.161..  Test Loss: 0.437..  Test Accuracy: 0.880\n",
      "Epoch: 41/50..  Training Loss: 0.156..  Test Loss: 0.428..  Test Accuracy: 0.882\n",
      "Epoch: 42/50..  Training Loss: 0.153..  Test Loss: 0.433..  Test Accuracy: 0.881\n",
      "Epoch: 43/50..  Training Loss: 0.149..  Test Loss: 0.431..  Test Accuracy: 0.882\n",
      "Epoch: 44/50..  Training Loss: 0.146..  Test Loss: 0.446..  Test Accuracy: 0.878\n",
      "Epoch: 45/50..  Training Loss: 0.144..  Test Loss: 0.428..  Test Accuracy: 0.883\n",
      "Epoch: 46/50..  Training Loss: 0.141..  Test Loss: 0.425..  Test Accuracy: 0.885\n",
      "Epoch: 47/50..  Training Loss: 0.138..  Test Loss: 0.433..  Test Accuracy: 0.882\n",
      "Epoch: 48/50..  Training Loss: 0.134..  Test Loss: 0.453..  Test Accuracy: 0.878\n",
      "Epoch: 49/50..  Training Loss: 0.134..  Test Loss: 0.420..  Test Accuracy: 0.887\n",
      "Epoch: 50/50..  Training Loss: 0.128..  Test Loss: 0.417..  Test Accuracy: 0.886\n"
     ]
    }
   ],
   "source": [
    "train_losses, test_losses = [], []\n",
    "for e in range(epochs):\n",
    "    running_loss = 0\n",
    "    for image, label in trainloader:\n",
    "        \n",
    "        optimizer.zero_grad()\n",
    "        \n",
    "        log_ps = model(image)\n",
    "        loss = criterion(log_ps, label)\n",
    "        loss.backward()\n",
    "        optimizer.step()\n",
    "        \n",
    "        running_loss+=loss.item()\n",
    "        \n",
    "    else:\n",
    "        test_loss = 0\n",
    "        accuracy = 0\n",
    "        with torch.no_grad():\n",
    "            model.eval()\n",
    "            for image, label in testloader:         \n",
    "                \n",
    "                log_ps = model.forward(image)\n",
    "                prob = torch.exp(log_ps)\n",
    "                \n",
    "                test_loss+= criterion(log_ps, label)\n",
    "                k_prob, k_class = prob.topk(1, dim=1)\n",
    "                equals = k_class == label.view(*k_class.shape)\n",
    "                \n",
    "                accuracy+= torch.mean(equals.type(torch.FloatTensor))\n",
    "        \n",
    "        model.train()\n",
    "        \n",
    "    train_losses.append(running_loss/len(trainloader))\n",
    "    test_losses.append(test_loss/len(testloader))\n",
    "    \n",
    "    print(\"Epoch: {}/{}.. \".format(e+1, epochs),\n",
    "          \"Training Loss: {:.3f}.. \".format(train_losses[-1]),\n",
    "          \"Test Loss: {:.3f}.. \".format(test_losses[-1]),\n",
    "          \"Test Accuracy: {:.3f}\".format(accuracy/len(testloader)))"
   ]
  },
  {
   "cell_type": "markdown",
   "id": "29c5ce49",
   "metadata": {},
   "source": [
    "---"
   ]
  },
  {
   "cell_type": "markdown",
   "id": "fc29b083",
   "metadata": {},
   "source": [
    "## Avaliando a rede"
   ]
  },
  {
   "cell_type": "markdown",
   "id": "fdc3c5bd",
   "metadata": {},
   "source": [
    "### Gráfico de convergência"
   ]
  },
  {
   "cell_type": "code",
   "execution_count": 16,
   "id": "dc4d3b8c",
   "metadata": {},
   "outputs": [
    {
     "data": {
      "image/png": "[encoded data removed]",
      "text/plain": [
       "<Figure size 640x480 with 1 Axes>"
      ]
     },
     "metadata": {},
     "output_type": "display_data"
    }
   ],
   "source": [
    "plt.plot(train_losses, label='Train')\n",
    "plt.plot(test_losses, label='Validation')\n",
    "plt.legend()\n",
    "\n",
    "plt.title('The Learning Curves')\n",
    "plt.xlabel('Epoch')\n",
    "plt.ylabel('Loss')\n",
    "\n",
    "plt.show()"
   ]
  },
  {
   "cell_type": "markdown",
   "id": "6a20bf5e",
   "metadata": {},
   "source": [
    "### Amostra da probabilidade"
   ]
  },
  {
   "cell_type": "code",
   "execution_count": 17,
   "id": "2bc3256d",
   "metadata": {},
   "outputs": [
    {
     "data": {
      "image/png": "[encoded data removed]",
      "text/plain": [
       "<Figure size 432x648 with 2 Axes>"
      ]
     },
     "metadata": {
      "needs_background": "light"
     },
     "output_type": "display_data"
    }
   ],
   "source": [
    "%matplotlib inline\n",
    "import helper\n",
    "\n",
    "images, labels = next(iter(trainloader))\n",
    "\n",
    "img = images[0].view(1, 784)\n",
    "# desligando o gradiente para acelerar o processo\n",
    "with torch.no_grad():\n",
    "    logps = model(img)\n",
    "\n",
    "# As saidas da rede são o log da probabilidade.\n",
    "# Por isso precisamos fazer o exponencial para termos as probabilidades reais.\n",
    "ps = torch.exp(logps)\n",
    "helper.view_classify(img.view(1, 28, 28), ps)"
   ]
  },
  {
   "cell_type": "markdown",
   "id": "a2db15fa",
   "metadata": {},
   "source": [
    "### Acurácia"
   ]
  },
  {
   "cell_type": "code",
   "execution_count": 18,
   "id": "f19c78e5",
   "metadata": {},
   "outputs": [],
   "source": [
    "import pandas as pd\n",
    "from torch.autograd import Variable"
   ]
  },
  {
   "cell_type": "code",
   "execution_count": 19,
   "id": "403b7d0b",
   "metadata": {},
   "outputs": [],
   "source": [
    "predicted = []\n",
    "expected = []\n",
    "\n",
    "for image, label in testset:\n",
    "    image = Variable(image.view(-1, 28*28))\n",
    "    outputs = model(image)\n",
    "    _, prediction = torch.max(outputs.data, 1)\n",
    "    predicted.append(prediction.item())\n",
    "    expected.append(label)"
   ]
  },
  {
   "cell_type": "code",
   "execution_count": 20,
   "id": "8bce788e",
   "metadata": {},
   "outputs": [
    {
     "data": {
      "text/html": [
       "<div>\n",
       "<style scoped>\n",
       "    .dataframe tbody tr th:only-of-type {\n",
       "        vertical-align: middle;\n",
       "    }\n",
       "\n",
       "    .dataframe tbody tr th {\n",
       "        vertical-align: top;\n",
       "    }\n",
       "\n",
       "    .dataframe thead th {\n",
       "        text-align: right;\n",
       "    }\n",
       "</style>\n",
       "<table border=\"1\" class=\"dataframe\">\n",
       "  <thead>\n",
       "    <tr style=\"text-align: right;\">\n",
       "      <th></th>\n",
       "      <th>predicted</th>\n",
       "      <th>expected</th>\n",
       "    </tr>\n",
       "  </thead>\n",
       "  <tbody>\n",
       "    <tr>\n",
       "      <th>0</th>\n",
       "      <td>5</td>\n",
       "      <td>2</td>\n",
       "    </tr>\n",
       "    <tr>\n",
       "      <th>1</th>\n",
       "      <td>9</td>\n",
       "      <td>9</td>\n",
       "    </tr>\n",
       "    <tr>\n",
       "      <th>2</th>\n",
       "      <td>3</td>\n",
       "      <td>3</td>\n",
       "    </tr>\n",
       "    <tr>\n",
       "      <th>3</th>\n",
       "      <td>8</td>\n",
       "      <td>8</td>\n",
       "    </tr>\n",
       "    <tr>\n",
       "      <th>4</th>\n",
       "      <td>3</td>\n",
       "      <td>3</td>\n",
       "    </tr>\n",
       "    <tr>\n",
       "      <th>...</th>\n",
       "      <td>...</td>\n",
       "      <td>...</td>\n",
       "    </tr>\n",
       "    <tr>\n",
       "      <th>9995</th>\n",
       "      <td>4</td>\n",
       "      <td>4</td>\n",
       "    </tr>\n",
       "    <tr>\n",
       "      <th>9996</th>\n",
       "      <td>0</td>\n",
       "      <td>0</td>\n",
       "    </tr>\n",
       "    <tr>\n",
       "      <th>9997</th>\n",
       "      <td>9</td>\n",
       "      <td>9</td>\n",
       "    </tr>\n",
       "    <tr>\n",
       "      <th>9998</th>\n",
       "      <td>4</td>\n",
       "      <td>4</td>\n",
       "    </tr>\n",
       "    <tr>\n",
       "      <th>9999</th>\n",
       "      <td>1</td>\n",
       "      <td>2</td>\n",
       "    </tr>\n",
       "  </tbody>\n",
       "</table>\n",
       "<p>10000 rows × 2 columns</p>\n",
       "</div>"
      ],
      "text/plain": [
       "      predicted  expected\n",
       "0             5         2\n",
       "1             9         9\n",
       "2             3         3\n",
       "3             8         8\n",
       "4             3         3\n",
       "...         ...       ...\n",
       "9995          4         4\n",
       "9996          0         0\n",
       "9997          9         9\n",
       "9998          4         4\n",
       "9999          1         2\n",
       "\n",
       "[10000 rows x 2 columns]"
      ]
     },
     "execution_count": 20,
     "metadata": {},
     "output_type": "execute_result"
    }
   ],
   "source": [
    "results = pd.DataFrame({'predicted': predicted, 'expected': expected})\n",
    "results"
   ]
  },
  {
   "cell_type": "code",
   "execution_count": 21,
   "id": "926af9ce",
   "metadata": {},
   "outputs": [
    {
     "name": "stdout",
     "output_type": "stream",
     "text": [
      "Acurácia do modelo: 0.8534\n"
     ]
    }
   ],
   "source": [
    "accuracy = (results['predicted'] == results['expected']).sum()/len(results)\n",
    "print(f\"Acurácia do modelo: {accuracy}\")"
   ]
  },
  {
   "cell_type": "markdown",
   "id": "71117617",
   "metadata": {},
   "source": [
    "### Matriz de confusão"
   ]
  },
  {
   "cell_type": "code",
   "execution_count": 22,
   "id": "a96ea39c",
   "metadata": {},
   "outputs": [],
   "source": [
    "import seaborn as sns\n",
    "from sklearn.metrics import confusion_matrix"
   ]
  },
  {
   "cell_type": "code",
   "execution_count": 23,
   "id": "0feeee29",
   "metadata": {},
   "outputs": [
    {
     "data": {
      "image/png": "[encoded data removed]",
      "text/plain": [
       "<Figure size 720x504 with 2 Axes>"
      ]
     },
     "metadata": {
      "needs_background": "light"
     },
     "output_type": "display_data"
    }
   ],
   "source": [
    "cm = confusion_matrix(predicted, expected)\n",
    "df_cm = pd.DataFrame(cm)\n",
    "df_cm.index.name = \"Valores Reais\"\n",
    "df_cm.columns.name = \"Valores Estimados\"\n",
    "plt.figure(figsize = (10,7))\n",
    "sns.set(font_scale=1.2)\n",
    "sns.heatmap(df_cm, cmap=\"Blues\", annot=True, fmt=\"d\", annot_kws={\"size\": 10})\n",
    "plt.show()"
   ]
  },
  {
   "cell_type": "code",
   "execution_count": 24,
   "id": "93445c3b-1093-4826-8569-0b8c09b51f45",
   "metadata": {},
   "outputs": [
    {
     "ename": "SyntaxError",
     "evalue": "invalid syntax (<ipython-input-24-905716ceefeb>, line 1)",
     "output_type": "error",
     "traceback": [
      "\u001b[0;36m  File \u001b[0;32m\"<ipython-input-24-905716ceefeb>\"\u001b[0;36m, line \u001b[0;32m1\u001b[0m\n\u001b[0;31m    Pára!!!\u001b[0m\n\u001b[0m        ^\u001b[0m\n\u001b[0;31mSyntaxError\u001b[0m\u001b[0;31m:\u001b[0m invalid syntax\n"
     ]
    }
   ],
   "source": [
    "Pára!!!"
   ]
  },
  {
   "cell_type": "markdown",
   "id": "3c978a07",
   "metadata": {},
   "source": [
    "---"
   ]
  },
  {
   "cell_type": "markdown",
   "id": "75fa27e7",
   "metadata": {},
   "source": [
    "# Teste da rede sem `dropout`"
   ]
  },
  {
   "cell_type": "markdown",
   "id": "8d42f5ce",
   "metadata": {},
   "source": [
    "## Criando a rede"
   ]
  },
  {
   "cell_type": "code",
   "execution_count": 25,
   "id": "c9be7104",
   "metadata": {},
   "outputs": [],
   "source": [
    "import torch.nn.functional as F\n",
    "from torch import nn"
   ]
  },
  {
   "cell_type": "code",
   "execution_count": 26,
   "id": "86504870",
   "metadata": {},
   "outputs": [],
   "source": [
    "class Classifier(nn.Module):\n",
    "    def __init__(self):\n",
    "        super().__init__()\n",
    "        \n",
    "        self.fc1 = nn.Linear(784,196)\n",
    "        self.fc2 = nn.Linear(196,196)\n",
    "        self.fc3 = nn.Linear(196,196)\n",
    "        self.fc4 = nn.Linear(196,49)\n",
    "        self.fc5 = nn.Linear(49,10)\n",
    "        \n",
    "    def forward(self, x):\n",
    "        # certificar que o tensor com as imagens foi 'achatado'\n",
    "        x = x.view(x.shape[0], -1)\n",
    "        \n",
    "        x = F.relu(self.fc1(x))\n",
    "        x = F.relu(self.fc2(x))\n",
    "        x = F.relu(self.fc3(x))\n",
    "        x = F.relu(self.fc4(x))\n",
    "        \n",
    "        x = F.log_softmax(self.fc5(x), dim=1)\n",
    "        \n",
    "        return x"
   ]
  },
  {
   "cell_type": "markdown",
   "id": "489830d3-1179-419e-a71f-cb33db7e73e8",
   "metadata": {},
   "source": [
    "## Fixando os hiperparâmetros"
   ]
  },
  {
   "cell_type": "code",
   "execution_count": 27,
   "id": "e4a9a859-595b-4fbf-818b-fff650fb044b",
   "metadata": {},
   "outputs": [],
   "source": [
    "model = Classifier()\n",
    "\n",
    "# Learning rate\n",
    "learning_rate = 0.01\n",
    "# Optimizer\n",
    "optimizer = torch.optim.ASGD(model.parameters(), lr=learning_rate)\n",
    "# Criterion\n",
    "criterion = torch.nn.CrossEntropyLoss()\n",
    "# Epoch\n",
    "epochs = 50"
   ]
  },
  {
   "cell_type": "markdown",
   "id": "ccb51b27",
   "metadata": {},
   "source": [
    "## Treinando a rede"
   ]
  },
  {
   "cell_type": "code",
   "execution_count": 28,
   "id": "b2065787",
   "metadata": {},
   "outputs": [
    {
     "name": "stdout",
     "output_type": "stream",
     "text": [
      "Epoch: 1/50..  Training Loss: 2.286..  Test Loss: 2.262..  Test Accuracy: 0.184\n",
      "Epoch: 2/50..  Training Loss: 1.968..  Test Loss: 1.877..  Test Accuracy: 0.360\n",
      "Epoch: 3/50..  Training Loss: 1.205..  Test Loss: 1.387..  Test Accuracy: 0.554\n",
      "Epoch: 4/50..  Training Loss: 0.847..  Test Loss: 1.243..  Test Accuracy: 0.603\n",
      "Epoch: 5/50..  Training Loss: 0.708..  Test Loss: 1.115..  Test Accuracy: 0.641\n",
      "Epoch: 6/50..  Training Loss: 0.600..  Test Loss: 0.978..  Test Accuracy: 0.682\n",
      "Epoch: 7/50..  Training Loss: 0.520..  Test Loss: 0.885..  Test Accuracy: 0.711\n",
      "Epoch: 8/50..  Training Loss: 0.459..  Test Loss: 0.830..  Test Accuracy: 0.731\n",
      "Epoch: 9/50..  Training Loss: 0.408..  Test Loss: 0.766..  Test Accuracy: 0.753\n",
      "Epoch: 10/50..  Training Loss: 0.368..  Test Loss: 0.718..  Test Accuracy: 0.774\n",
      "Epoch: 11/50..  Training Loss: 0.336..  Test Loss: 0.697..  Test Accuracy: 0.783\n",
      "Epoch: 12/50..  Training Loss: 0.306..  Test Loss: 0.655..  Test Accuracy: 0.800\n",
      "Epoch: 13/50..  Training Loss: 0.284..  Test Loss: 0.626..  Test Accuracy: 0.810\n",
      "Epoch: 14/50..  Training Loss: 0.264..  Test Loss: 0.606..  Test Accuracy: 0.817\n",
      "Epoch: 15/50..  Training Loss: 0.245..  Test Loss: 0.593..  Test Accuracy: 0.822\n",
      "Epoch: 16/50..  Training Loss: 0.227..  Test Loss: 0.563..  Test Accuracy: 0.830\n",
      "Epoch: 17/50..  Training Loss: 0.213..  Test Loss: 0.547..  Test Accuracy: 0.838\n",
      "Epoch: 18/50..  Training Loss: 0.198..  Test Loss: 0.550..  Test Accuracy: 0.837\n",
      "Epoch: 19/50..  Training Loss: 0.186..  Test Loss: 0.513..  Test Accuracy: 0.852\n",
      "Epoch: 20/50..  Training Loss: 0.176..  Test Loss: 0.517..  Test Accuracy: 0.848\n",
      "Epoch: 21/50..  Training Loss: 0.163..  Test Loss: 0.529..  Test Accuracy: 0.848\n",
      "Epoch: 22/50..  Training Loss: 0.154..  Test Loss: 0.488..  Test Accuracy: 0.864\n",
      "Epoch: 23/50..  Training Loss: 0.146..  Test Loss: 0.498..  Test Accuracy: 0.859\n",
      "Epoch: 24/50..  Training Loss: 0.136..  Test Loss: 0.495..  Test Accuracy: 0.857\n",
      "Epoch: 25/50..  Training Loss: 0.128..  Test Loss: 0.492..  Test Accuracy: 0.866\n",
      "Epoch: 26/50..  Training Loss: 0.121..  Test Loss: 0.512..  Test Accuracy: 0.860\n",
      "Epoch: 27/50..  Training Loss: 0.115..  Test Loss: 0.479..  Test Accuracy: 0.867\n",
      "Epoch: 28/50..  Training Loss: 0.107..  Test Loss: 0.478..  Test Accuracy: 0.871\n",
      "Epoch: 29/50..  Training Loss: 0.102..  Test Loss: 0.480..  Test Accuracy: 0.870\n",
      "Epoch: 30/50..  Training Loss: 0.094..  Test Loss: 0.479..  Test Accuracy: 0.868\n",
      "Epoch: 31/50..  Training Loss: 0.089..  Test Loss: 0.479..  Test Accuracy: 0.878\n",
      "Epoch: 32/50..  Training Loss: 0.083..  Test Loss: 0.496..  Test Accuracy: 0.870\n",
      "Epoch: 33/50..  Training Loss: 0.079..  Test Loss: 0.482..  Test Accuracy: 0.875\n",
      "Epoch: 34/50..  Training Loss: 0.073..  Test Loss: 0.477..  Test Accuracy: 0.878\n",
      "Epoch: 35/50..  Training Loss: 0.069..  Test Loss: 0.469..  Test Accuracy: 0.879\n",
      "Epoch: 36/50..  Training Loss: 0.066..  Test Loss: 0.491..  Test Accuracy: 0.878\n",
      "Epoch: 37/50..  Training Loss: 0.061..  Test Loss: 0.477..  Test Accuracy: 0.882\n",
      "Epoch: 38/50..  Training Loss: 0.056..  Test Loss: 0.495..  Test Accuracy: 0.879\n",
      "Epoch: 39/50..  Training Loss: 0.053..  Test Loss: 0.496..  Test Accuracy: 0.878\n",
      "Epoch: 40/50..  Training Loss: 0.051..  Test Loss: 0.505..  Test Accuracy: 0.880\n",
      "Epoch: 41/50..  Training Loss: 0.048..  Test Loss: 0.523..  Test Accuracy: 0.875\n",
      "Epoch: 42/50..  Training Loss: 0.044..  Test Loss: 0.551..  Test Accuracy: 0.872\n",
      "Epoch: 43/50..  Training Loss: 0.041..  Test Loss: 0.549..  Test Accuracy: 0.874\n",
      "Epoch: 44/50..  Training Loss: 0.040..  Test Loss: 0.537..  Test Accuracy: 0.877\n",
      "Epoch: 45/50..  Training Loss: 0.036..  Test Loss: 0.552..  Test Accuracy: 0.879\n",
      "Epoch: 46/50..  Training Loss: 0.032..  Test Loss: 0.547..  Test Accuracy: 0.879\n",
      "Epoch: 47/50..  Training Loss: 0.031..  Test Loss: 0.546..  Test Accuracy: 0.881\n",
      "Epoch: 48/50..  Training Loss: 0.028..  Test Loss: 0.551..  Test Accuracy: 0.884\n",
      "Epoch: 49/50..  Training Loss: 0.025..  Test Loss: 0.540..  Test Accuracy: 0.886\n",
      "Epoch: 50/50..  Training Loss: 0.025..  Test Loss: 0.569..  Test Accuracy: 0.881\n"
     ]
    }
   ],
   "source": [
    "steps = 0\n",
    "\n",
    "train_losses, test_losses = [], []\n",
    "for e in range(epochs):\n",
    "    running_loss = 0\n",
    "    for images, labels in trainloader:\n",
    "        \n",
    "        optimizer.zero_grad()\n",
    "        \n",
    "        log_ps = model(images)\n",
    "        loss = criterion(log_ps, labels)\n",
    "        loss.backward()\n",
    "        optimizer.step()\n",
    "        \n",
    "        running_loss += loss.item()\n",
    "        \n",
    "    else:\n",
    "        # else pode ser usado em laços tipo for no python, e só será executado se não cair em nenhum break\n",
    "        test_loss = 0\n",
    "        accuracy = 0\n",
    "        with torch.no_grad():\n",
    "            # passo de validação\n",
    "            for images, labels in testloader:\n",
    "                log_ps = model(images)\n",
    "                ps = torch.exp(log_ps)\n",
    "                \n",
    "                test_loss += criterion(log_ps, labels)  \n",
    "                top_p, top_class = ps.topk(1, dim=1)\n",
    "                equals = top_class == labels.view(*top_class.shape)\n",
    "                accuracy+= torch.mean(equals.type(torch.FloatTensor))\n",
    "                \n",
    "        train_losses.append(running_loss / len(trainloader))\n",
    "        test_losses.append(test_loss / len(testloader))\n",
    "                \n",
    "        print(\"Epoch: {}/{}.. \".format(e+1, epochs),\n",
    "              \"Training Loss: {:.3f}.. \".format(train_losses[-1]),\n",
    "              \"Test Loss: {:.3f}.. \".format(test_losses[-1]),\n",
    "              \"Test Accuracy: {:.3f}\".format(accuracy/len(testloader)))"
   ]
  },
  {
   "cell_type": "markdown",
   "id": "5cc9bf47",
   "metadata": {},
   "source": [
    "---"
   ]
  },
  {
   "cell_type": "markdown",
   "id": "b0cecabc",
   "metadata": {},
   "source": [
    "## Avaliando a rede"
   ]
  },
  {
   "cell_type": "markdown",
   "id": "e4316d82",
   "metadata": {},
   "source": [
    "### Gráfico de convergência"
   ]
  },
  {
   "cell_type": "code",
   "execution_count": 29,
   "id": "e360281f",
   "metadata": {},
   "outputs": [
    {
     "data": {
      "image/png": "[encoded data removed]",
      "text/plain": [
       "<Figure size 432x288 with 1 Axes>"
      ]
     },
     "metadata": {},
     "output_type": "display_data"
    }
   ],
   "source": [
    "plt.plot(train_losses, label='Train')\n",
    "plt.plot(test_losses, label='Validation')\n",
    "plt.legend()\n",
    "\n",
    "plt.title('The Learning Curves')\n",
    "plt.xlabel('Epoch')\n",
    "plt.ylabel('Loss')\n",
    "\n",
    "plt.show()"
   ]
  },
  {
   "cell_type": "markdown",
   "id": "c4d1f452",
   "metadata": {},
   "source": [
    "### Amostra da probabilidade"
   ]
  },
  {
   "cell_type": "code",
   "execution_count": 30,
   "id": "6af32049",
   "metadata": {},
   "outputs": [
    {
     "data": {
      "image/png": "[encoded data removed]",
      "text/plain": [
       "<Figure size 432x648 with 2 Axes>"
      ]
     },
     "metadata": {
      "needs_background": "light"
     },
     "output_type": "display_data"
    }
   ],
   "source": [
    "%matplotlib inline\n",
    "import helper\n",
    "\n",
    "images, labels = next(iter(trainloader))\n",
    "\n",
    "img = images[0].view(1, 784)\n",
    "# desligando o gradiente para acelerar o processo\n",
    "with torch.no_grad():\n",
    "    logps = model(img)\n",
    "\n",
    "# As saidas da rede são o log da probabilidade.\n",
    "# Por isso precisamos fazer o exponencial para termos as probabilidades reais.\n",
    "ps = torch.exp(logps)\n",
    "helper.view_classify(img.view(1, 28, 28), ps)"
   ]
  },
  {
   "cell_type": "markdown",
   "id": "e6da8742",
   "metadata": {},
   "source": [
    "### Acurácia"
   ]
  },
  {
   "cell_type": "code",
   "execution_count": 31,
   "id": "9df4a995",
   "metadata": {},
   "outputs": [],
   "source": [
    "import pandas as pd\n",
    "from torch.autograd import Variable"
   ]
  },
  {
   "cell_type": "code",
   "execution_count": 32,
   "id": "44805a24",
   "metadata": {},
   "outputs": [],
   "source": [
    "predicted = []\n",
    "expected = []\n",
    "\n",
    "for image, label in testset:\n",
    "    image = Variable(image.view(-1, 28*28))\n",
    "    outputs = model(image)\n",
    "    _, prediction = torch.max(outputs.data, 1)\n",
    "    predicted.append(prediction.item())\n",
    "    expected.append(label)"
   ]
  },
  {
   "cell_type": "code",
   "execution_count": 33,
   "id": "b21cdd96",
   "metadata": {},
   "outputs": [
    {
     "data": {
      "text/html": [
       "<div>\n",
       "<style scoped>\n",
       "    .dataframe tbody tr th:only-of-type {\n",
       "        vertical-align: middle;\n",
       "    }\n",
       "\n",
       "    .dataframe tbody tr th {\n",
       "        vertical-align: top;\n",
       "    }\n",
       "\n",
       "    .dataframe thead th {\n",
       "        text-align: right;\n",
       "    }\n",
       "</style>\n",
       "<table border=\"1\" class=\"dataframe\">\n",
       "  <thead>\n",
       "    <tr style=\"text-align: right;\">\n",
       "      <th></th>\n",
       "      <th>predicted</th>\n",
       "      <th>expected</th>\n",
       "    </tr>\n",
       "  </thead>\n",
       "  <tbody>\n",
       "    <tr>\n",
       "      <th>0</th>\n",
       "      <td>2</td>\n",
       "      <td>2</td>\n",
       "    </tr>\n",
       "    <tr>\n",
       "      <th>1</th>\n",
       "      <td>9</td>\n",
       "      <td>9</td>\n",
       "    </tr>\n",
       "    <tr>\n",
       "      <th>2</th>\n",
       "      <td>3</td>\n",
       "      <td>3</td>\n",
       "    </tr>\n",
       "    <tr>\n",
       "      <th>3</th>\n",
       "      <td>8</td>\n",
       "      <td>8</td>\n",
       "    </tr>\n",
       "    <tr>\n",
       "      <th>4</th>\n",
       "      <td>3</td>\n",
       "      <td>3</td>\n",
       "    </tr>\n",
       "    <tr>\n",
       "      <th>...</th>\n",
       "      <td>...</td>\n",
       "      <td>...</td>\n",
       "    </tr>\n",
       "    <tr>\n",
       "      <th>9995</th>\n",
       "      <td>4</td>\n",
       "      <td>4</td>\n",
       "    </tr>\n",
       "    <tr>\n",
       "      <th>9996</th>\n",
       "      <td>0</td>\n",
       "      <td>0</td>\n",
       "    </tr>\n",
       "    <tr>\n",
       "      <th>9997</th>\n",
       "      <td>9</td>\n",
       "      <td>9</td>\n",
       "    </tr>\n",
       "    <tr>\n",
       "      <th>9998</th>\n",
       "      <td>4</td>\n",
       "      <td>4</td>\n",
       "    </tr>\n",
       "    <tr>\n",
       "      <th>9999</th>\n",
       "      <td>3</td>\n",
       "      <td>2</td>\n",
       "    </tr>\n",
       "  </tbody>\n",
       "</table>\n",
       "<p>10000 rows × 2 columns</p>\n",
       "</div>"
      ],
      "text/plain": [
       "      predicted  expected\n",
       "0             2         2\n",
       "1             9         9\n",
       "2             3         3\n",
       "3             8         8\n",
       "4             3         3\n",
       "...         ...       ...\n",
       "9995          4         4\n",
       "9996          0         0\n",
       "9997          9         9\n",
       "9998          4         4\n",
       "9999          3         2\n",
       "\n",
       "[10000 rows x 2 columns]"
      ]
     },
     "execution_count": 33,
     "metadata": {},
     "output_type": "execute_result"
    }
   ],
   "source": [
    "results = pd.DataFrame({'predicted': predicted, 'expected': expected})\n",
    "results"
   ]
  },
  {
   "cell_type": "code",
   "execution_count": 34,
   "id": "9e4f0043",
   "metadata": {},
   "outputs": [
    {
     "name": "stdout",
     "output_type": "stream",
     "text": [
      "Acurácia do modelo: 0.8808\n"
     ]
    }
   ],
   "source": [
    "accuracy = (results['predicted'] == results['expected']).sum()/len(results)\n",
    "print(f\"Acurácia do modelo: {accuracy}\")"
   ]
  },
  {
   "cell_type": "markdown",
   "id": "e6e32d45",
   "metadata": {},
   "source": [
    "### Matriz de confusão"
   ]
  },
  {
   "cell_type": "code",
   "execution_count": 35,
   "id": "2e945675",
   "metadata": {},
   "outputs": [],
   "source": [
    "import seaborn as sns\n",
    "from sklearn.metrics import confusion_matrix"
   ]
  },
  {
   "cell_type": "code",
   "execution_count": 36,
   "id": "f63c0b68",
   "metadata": {},
   "outputs": [
    {
     "data": {
      "image/png": "[encoded data removed]",
      "text/plain": [
       "<Figure size 720x504 with 2 Axes>"
      ]
     },
     "metadata": {
      "needs_background": "light"
     },
     "output_type": "display_data"
    }
   ],
   "source": [
    "cm = confusion_matrix(predicted, expected)\n",
    "df_cm = pd.DataFrame(cm)\n",
    "df_cm.index.name = \"Valores Reais\"\n",
    "df_cm.columns.name = \"Valores Estimados\"\n",
    "plt.figure(figsize = (10,7))\n",
    "sns.set(font_scale=1.2)\n",
    "sns.heatmap(df_cm, cmap=\"Blues\", annot=True, fmt=\"d\", annot_kws={\"size\": 10})\n",
    "plt.show()"
   ]
  },
  {
   "cell_type": "code",
   "execution_count": null,
   "id": "e5305864",
   "metadata": {},
   "outputs": [],
   "source": []
  }
 ],
 "metadata": {
  "kernelspec": {
   "display_name": "Python 3",
   "language": "python",
   "name": "python3"
  },
  "language_info": {
   "codemirror_mode": {
    "name": "ipython",
    "version": 3
   },
   "file_extension": ".py",
   "mimetype": "text/x-python",
   "name": "python",
   "nbconvert_exporter": "python",
   "pygments_lexer": "ipython3",
   "version": "3.8.11"
  }
 },
 "nbformat": 4,
 "nbformat_minor": 5
}
