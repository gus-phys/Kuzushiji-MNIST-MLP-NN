{
 "cells": [
  {
   "cell_type": "markdown",
   "id": "643e311c-0d52-4836-b06e-90cb6d2f49b0",
   "metadata": {},
   "source": [
    "# Estudo da rede neural MLP como classificadora do dataset KMNIST"
   ]
  },
  {
   "cell_type": "markdown",
   "id": "35dd9beb-5e1b-46fb-8cda-8db02a8acbb1",
   "metadata": {},
   "source": [
    "## Bibliotecas"
   ]
  },
  {
   "cell_type": "code",
   "execution_count": 1,
   "id": "7e13f289-4ee0-4931-8f8c-4d2242c628c6",
   "metadata": {},
   "outputs": [],
   "source": [
    "import pandas as pd\n",
    "import matplotlib.pyplot as plt\n",
    "import seaborn as sns\n",
    "from sklearn.metrics import classification_report, confusion_matrix\n",
    "import torch\n",
    "import torchvision.transforms as transforms\n",
    "import torchvision.datasets as dsets\n",
    "from torch.autograd import Variable"
   ]
  },
  {
   "cell_type": "code",
   "execution_count": 2,
   "id": "ca1645a9-e1ff-44e1-864e-5ce57e32111c",
   "metadata": {},
   "outputs": [
    {
     "name": "stdout",
     "output_type": "stream",
     "text": [
      "Versão PyTorch:  1.8.1\n",
      "Usando GPU:  False\n"
     ]
    }
   ],
   "source": [
    "#  Verificando a versão do PyTorch e se está usando GPU\n",
    "print('Versão PyTorch: ', torch.__version__)\n",
    "print('Usando GPU: ', torch.cuda.is_available())\n",
    "\n",
    "if torch.cuda.is_available():    \n",
    "    print('GPU: ',torch.cuda.get_device_name(torch.cuda.current_device()))"
   ]
  },
  {
   "cell_type": "markdown",
   "id": "ac11d982-bf8d-4286-8f6b-26efbd1f4e0a",
   "metadata": {},
   "source": [
    "## Leitura dos dados"
   ]
  },
  {
   "cell_type": "code",
   "execution_count": 3,
   "id": "8ecffb65-bdd2-4983-bf5f-7fad79e61030",
   "metadata": {},
   "outputs": [],
   "source": [
    "train_dataset = dsets.KMNIST(root='~/data', train=True, transform=transforms.ToTensor(), download=True)\n",
    "test_dataset = dsets.KMNIST(root='~/data', train=False, transform=transforms.ToTensor())"
   ]
  },
  {
   "cell_type": "code",
   "execution_count": 4,
   "id": "1c41cf98-fef2-4406-9c3a-8f9b2f1ad133",
   "metadata": {},
   "outputs": [
    {
     "name": "stdout",
     "output_type": "stream",
     "text": [
      "> 60000 amostras de Treino e 10000 amostras de Teste\n"
     ]
    }
   ],
   "source": [
    "print(f\"> {len(train_dataset)} amostras de Treino e {len(test_dataset)} amostras de Teste\")"
   ]
  },
  {
   "cell_type": "code",
   "execution_count": 5,
   "id": "6bb4a404-a8b6-4b0f-95da-d71e2f70d707",
   "metadata": {},
   "outputs": [
    {
     "data": {
      "image/png": "[encoded data removed]",
      "text/plain": [
       "<Figure size 1200x400 with 8 Axes>"
      ]
     },
     "metadata": {},
     "output_type": "display_data"
    }
   ],
   "source": [
    "num_imagens = 8\n",
    "\n",
    "fig, axs = plt.subplots(1, num_imagens, figsize=(12,4))\n",
    "for i in range(num_imagens):\n",
    "    axs[i].imshow(train_dataset[i][0].reshape(28,28), cmap=plt.get_cmap(\"gray\"))\n",
    "\n",
    "plt.show()"
   ]
  },
  {
   "cell_type": "code",
   "execution_count": null,
   "id": "a5bc7b7b-43d5-4aa7-bbc5-0beee29d9a57",
   "metadata": {},
   "outputs": [],
   "source": []
  }
 ],
 "metadata": {
  "kernelspec": {
   "display_name": "Python 3",
   "language": "python",
   "name": "python3"
  },
  "language_info": {
   "codemirror_mode": {
    "name": "ipython",
    "version": 3
   },
   "file_extension": ".py",
   "mimetype": "text/x-python",
   "name": "python",
   "nbconvert_exporter": "python",
   "pygments_lexer": "ipython3",
   "version": "3.8.11"
  }
 },
 "nbformat": 4,
 "nbformat_minor": 5
}
