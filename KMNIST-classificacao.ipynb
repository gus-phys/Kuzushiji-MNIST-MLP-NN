{
 "cells": [
  {
   "cell_type": "markdown",
   "id": "e5aa5962-773d-4c74-b374-1dd16061c280",
   "metadata": {},
   "source": [
    "# Rede neural MLP como classificadora do dataset KMNIST"
   ]
  },
  {
   "cell_type": "markdown",
   "id": "8c12732b-3136-4b70-9b16-055631819201",
   "metadata": {},
   "source": [
    "## Bibliotecas"
   ]
  },
  {
   "cell_type": "code",
   "execution_count": 1,
   "id": "0534f65d-781f-46eb-9690-da46d43b32f6",
   "metadata": {},
   "outputs": [],
   "source": [
    "%matplotlib inline\n",
    "%config InlineBackend.figure_format = 'retina'\n",
    "\n",
    "import matplotlib.pyplot as plt\n",
    "\n",
    "import torch\n",
    "from torch import nn\n",
    "from torch import optim\n",
    "import torch.nn.functional as F\n",
    "from torchvision import datasets, transforms\n",
    "\n",
    "import helper\n",
    "import fc_model"
   ]
  },
  {
   "cell_type": "markdown",
   "id": "4cbad59b-582b-4830-97da-1307670f041f",
   "metadata": {},
   "source": [
    "## Importando o KMNIST"
   ]
  },
  {
   "cell_type": "markdown",
   "id": "1ac29954-5b3f-4387-a849-4913994976b6",
   "metadata": {},
   "source": [
    "### Definindo a transformação no dataset"
   ]
  },
  {
   "cell_type": "code",
   "execution_count": 2,
   "id": "6209c5e4-e548-4110-ba32-3ab33c2edde5",
   "metadata": {},
   "outputs": [],
   "source": [
    "# Define a transformação para normalizar os dados\n",
    "transform = transforms.Compose([\n",
    "#     transforms.RandomHorizontalFlip(p=0.5),\n",
    "    transforms.Grayscale(),\n",
    "    transforms.ToTensor(),\n",
    "    transforms.Normalize((0.5,), (0.5,))\n",
    "])\n",
    "\n",
    "# Batch size\n",
    "batch_size = 120"
   ]
  },
  {
   "cell_type": "code",
   "execution_count": 3,
   "id": "c83307d0-4a34-46c4-8b97-87c88bbff82f",
   "metadata": {},
   "outputs": [],
   "source": [
    "# download e carrega os dados de treinamento\n",
    "trainset = datasets.KMNIST('~/data/', download=True, train=True, transform=transform)\n",
    "trainloader = torch.utils.data.DataLoader(trainset, batch_size, shuffle=True)\n",
    "\n",
    "# download e carrega os dados de validação/teste\n",
    "testset = datasets.KMNIST('~/data/', download=True, train=False, transform=transform)\n",
    "testloader = torch.utils.data.DataLoader(testset, batch_size, shuffle=True)"
   ]
  },
  {
   "cell_type": "markdown",
   "id": "4adc43bb-0f15-4b1a-8dba-2130f1806605",
   "metadata": {},
   "source": [
    "Exemplar das imagens"
   ]
  },
  {
   "cell_type": "code",
   "execution_count": 4,
   "id": "cfcb23fe-e447-4e6d-9f7f-f9f00588c6e9",
   "metadata": {},
   "outputs": [
    {
     "data": {
      "image/png": "[encoded data removed]",
      "text/plain": [
       "<Figure size 432x288 with 1 Axes>"
      ]
     },
     "metadata": {
      "image/png": {
       "height": 231,
       "width": 231
      },
      "needs_background": "light"
     },
     "output_type": "display_data"
    }
   ],
   "source": [
    "image, label = next(iter(trainloader))\n",
    "helper.imshow(image[0,:]);"
   ]
  },
  {
   "cell_type": "markdown",
   "id": "d0e01582-9359-44ad-b243-b731af61b3de",
   "metadata": {},
   "source": [
    "## Definindo os parâmetros da rede"
   ]
  },
  {
   "cell_type": "code",
   "execution_count": 5,
   "id": "f9579fce-111b-4519-967d-4ece6c87df8d",
   "metadata": {},
   "outputs": [],
   "source": [
    "# Model\n",
    "model = fc_model.Network(784, 10, [196, 196, 49], 0.1)\n",
    "# Learning rate\n",
    "learning_rate = 0.1\n",
    "# Optimizer\n",
    "optimizer = torch.optim.ASGD(model.parameters(), lr=learning_rate)\n",
    "# Criterion\n",
    "criterion = torch.nn.CrossEntropyLoss()\n",
    "# Epoch\n",
    "epochs = round(len(trainloader)/batch_size)"
   ]
  },
  {
   "cell_type": "markdown",
   "id": "1fc90f18-2613-43a3-bc40-f1feda591ae8",
   "metadata": {},
   "source": [
    "## Treinando"
   ]
  },
  {
   "cell_type": "code",
   "execution_count": 6,
   "id": "55851cfe-2fd3-4702-8cb6-b866a83eb415",
   "metadata": {},
   "outputs": [
    {
     "name": "stdout",
     "output_type": "stream",
     "text": [
      "Epoch: 1/4..  Training Loss: 2.224..  Test Loss: 2.133..  Test Accuracy: 0.228\n",
      "Epoch: 1/4..  Training Loss: 1.756..  Test Loss: 1.692..  Test Accuracy: 0.435\n",
      "Epoch: 1/4..  Training Loss: 1.241..  Test Loss: 1.431..  Test Accuracy: 0.542\n",
      "Epoch: 1/4..  Training Loss: 0.983..  Test Loss: 1.295..  Test Accuracy: 0.590\n",
      "Epoch: 1/4..  Training Loss: 0.820..  Test Loss: 1.160..  Test Accuracy: 0.628\n",
      "Epoch: 1/4..  Training Loss: 0.769..  Test Loss: 1.093..  Test Accuracy: 0.640\n",
      "Epoch: 1/4..  Training Loss: 0.680..  Test Loss: 1.119..  Test Accuracy: 0.631\n",
      "Epoch: 1/4..  Training Loss: 0.623..  Test Loss: 0.916..  Test Accuracy: 0.701\n",
      "Epoch: 1/4..  Training Loss: 0.585..  Test Loss: 0.888..  Test Accuracy: 0.710\n",
      "Epoch: 1/4..  Training Loss: 0.576..  Test Loss: 0.876..  Test Accuracy: 0.713\n",
      "Epoch: 1/4..  Training Loss: 0.545..  Test Loss: 0.845..  Test Accuracy: 0.719\n",
      "Epoch: 1/4..  Training Loss: 0.488..  Test Loss: 0.790..  Test Accuracy: 0.746\n",
      "Epoch: 2/4..  Training Loss: 0.460..  Test Loss: 0.775..  Test Accuracy: 0.754\n",
      "Epoch: 2/4..  Training Loss: 0.421..  Test Loss: 0.735..  Test Accuracy: 0.769\n",
      "Epoch: 2/4..  Training Loss: 0.439..  Test Loss: 0.741..  Test Accuracy: 0.761\n",
      "Epoch: 2/4..  Training Loss: 0.437..  Test Loss: 0.760..  Test Accuracy: 0.759\n",
      "Epoch: 2/4..  Training Loss: 0.400..  Test Loss: 0.658..  Test Accuracy: 0.793\n",
      "Epoch: 2/4..  Training Loss: 0.398..  Test Loss: 0.761..  Test Accuracy: 0.763\n",
      "Epoch: 2/4..  Training Loss: 0.398..  Test Loss: 0.655..  Test Accuracy: 0.789\n",
      "Epoch: 2/4..  Training Loss: 0.389..  Test Loss: 0.652..  Test Accuracy: 0.792\n",
      "Epoch: 2/4..  Training Loss: 0.377..  Test Loss: 0.644..  Test Accuracy: 0.787\n",
      "Epoch: 2/4..  Training Loss: 0.356..  Test Loss: 0.662..  Test Accuracy: 0.788\n",
      "Epoch: 2/4..  Training Loss: 0.351..  Test Loss: 0.626..  Test Accuracy: 0.813\n",
      "Epoch: 2/4..  Training Loss: 0.333..  Test Loss: 0.604..  Test Accuracy: 0.808\n",
      "Epoch: 2/4..  Training Loss: 0.337..  Test Loss: 0.620..  Test Accuracy: 0.809\n",
      "Epoch: 3/4..  Training Loss: 0.304..  Test Loss: 0.610..  Test Accuracy: 0.811\n",
      "Epoch: 3/4..  Training Loss: 0.308..  Test Loss: 0.550..  Test Accuracy: 0.831\n",
      "Epoch: 3/4..  Training Loss: 0.299..  Test Loss: 0.550..  Test Accuracy: 0.830\n",
      "Epoch: 3/4..  Training Loss: 0.310..  Test Loss: 0.547..  Test Accuracy: 0.833\n",
      "Epoch: 3/4..  Training Loss: 0.296..  Test Loss: 0.552..  Test Accuracy: 0.830\n",
      "Epoch: 3/4..  Training Loss: 0.293..  Test Loss: 0.527..  Test Accuracy: 0.837\n",
      "Epoch: 3/4..  Training Loss: 0.287..  Test Loss: 0.520..  Test Accuracy: 0.835\n",
      "Epoch: 3/4..  Training Loss: 0.285..  Test Loss: 0.563..  Test Accuracy: 0.825\n",
      "Epoch: 3/4..  Training Loss: 0.261..  Test Loss: 0.550..  Test Accuracy: 0.829\n",
      "Epoch: 3/4..  Training Loss: 0.269..  Test Loss: 0.500..  Test Accuracy: 0.847\n",
      "Epoch: 3/4..  Training Loss: 0.271..  Test Loss: 0.561..  Test Accuracy: 0.821\n",
      "Epoch: 3/4..  Training Loss: 0.270..  Test Loss: 0.521..  Test Accuracy: 0.840\n",
      "Epoch: 4/4..  Training Loss: 0.254..  Test Loss: 0.557..  Test Accuracy: 0.831\n",
      "Epoch: 4/4..  Training Loss: 0.256..  Test Loss: 0.488..  Test Accuracy: 0.852\n",
      "Epoch: 4/4..  Training Loss: 0.227..  Test Loss: 0.483..  Test Accuracy: 0.855\n",
      "Epoch: 4/4..  Training Loss: 0.250..  Test Loss: 0.487..  Test Accuracy: 0.854\n",
      "Epoch: 4/4..  Training Loss: 0.232..  Test Loss: 0.509..  Test Accuracy: 0.841\n",
      "Epoch: 4/4..  Training Loss: 0.246..  Test Loss: 0.453..  Test Accuracy: 0.864\n",
      "Epoch: 4/4..  Training Loss: 0.251..  Test Loss: 0.469..  Test Accuracy: 0.862\n",
      "Epoch: 4/4..  Training Loss: 0.227..  Test Loss: 0.476..  Test Accuracy: 0.859\n",
      "Epoch: 4/4..  Training Loss: 0.239..  Test Loss: 0.467..  Test Accuracy: 0.854\n",
      "Epoch: 4/4..  Training Loss: 0.219..  Test Loss: 0.467..  Test Accuracy: 0.857\n",
      "Epoch: 4/4..  Training Loss: 0.217..  Test Loss: 0.476..  Test Accuracy: 0.854\n",
      "Epoch: 4/4..  Training Loss: 0.241..  Test Loss: 0.504..  Test Accuracy: 0.845\n",
      "Epoch: 4/4..  Training Loss: 0.218..  Test Loss: 0.470..  Test Accuracy: 0.857\n"
     ]
    }
   ],
   "source": [
    "fc_model.train(model, trainloader, testloader, criterion, optimizer, epochs)"
   ]
  },
  {
   "cell_type": "code",
   "execution_count": 7,
   "id": "9c884717-53f6-4513-abce-deb55fa4866b",
   "metadata": {},
   "outputs": [
    {
     "name": "stdout",
     "output_type": "stream",
     "text": [
      "Nosso modelo: \n",
      "\n",
      " Network(\n",
      "  (hidden_layers): ModuleList(\n",
      "    (0): Linear(in_features=784, out_features=196, bias=True)\n",
      "    (1): Linear(in_features=196, out_features=196, bias=True)\n",
      "    (2): Linear(in_features=196, out_features=49, bias=True)\n",
      "  )\n",
      "  (output): Linear(in_features=49, out_features=10, bias=True)\n",
      "  (dropout): Dropout(p=0.1, inplace=False)\n",
      ") \n",
      "\n",
      "As chaves do dicionário: \n",
      "\n",
      " odict_keys(['hidden_layers.0.weight', 'hidden_layers.0.bias', 'hidden_layers.1.weight', 'hidden_layers.1.bias', 'hidden_layers.2.weight', 'hidden_layers.2.bias', 'output.weight', 'output.bias'])\n"
     ]
    }
   ],
   "source": [
    "print(\"Nosso modelo: \\n\\n\", model, '\\n')\n",
    "print(\"As chaves do dicionário: \\n\\n\", model.state_dict().keys())"
   ]
  },
  {
   "cell_type": "code",
   "execution_count": null,
   "id": "50f0cd38-827d-4bdf-83ff-26b15d03666f",
   "metadata": {},
   "outputs": [],
   "source": []
  },
  {
   "cell_type": "markdown",
   "id": "92f66c3a-7cba-432a-a800-8722d02f81ea",
   "metadata": {},
   "source": [
    "## Salvando e carregando o modelo"
   ]
  },
  {
   "cell_type": "code",
   "execution_count": 8,
   "id": "9ac2307c-2fd4-4661-8623-0346c7109538",
   "metadata": {},
   "outputs": [],
   "source": [
    "checkpoint = {'input_size': 784,\n",
    "              'output_size': 10,\n",
    "              'hidden_layers': [each.out_features for each in model.hidden_layers],\n",
    "              'state_dict': model.state_dict()}\n",
    "\n",
    "torch.save(checkpoint, 'checkpoint.pth')"
   ]
  },
  {
   "cell_type": "code",
   "execution_count": 9,
   "id": "a522631d-1f49-4b47-bffc-5aa42a373906",
   "metadata": {},
   "outputs": [],
   "source": [
    "def load_checkpoint(filepath):\n",
    "    checkpoint = torch.load(filepath)\n",
    "    model = fc_model.Network(checkpoint['input_size'],\n",
    "                             checkpoint['output_size'],\n",
    "                             checkpoint['hidden_layers'])\n",
    "    model.load_state_dict(checkpoint['state_dict'])\n",
    "    \n",
    "    return model"
   ]
  },
  {
   "cell_type": "code",
   "execution_count": 10,
   "id": "ee90abfc-f0e2-43f4-ab9f-fea68f205059",
   "metadata": {},
   "outputs": [
    {
     "name": "stdout",
     "output_type": "stream",
     "text": [
      "Network(\n",
      "  (hidden_layers): ModuleList(\n",
      "    (0): Linear(in_features=784, out_features=196, bias=True)\n",
      "    (1): Linear(in_features=196, out_features=196, bias=True)\n",
      "    (2): Linear(in_features=196, out_features=49, bias=True)\n",
      "  )\n",
      "  (output): Linear(in_features=49, out_features=10, bias=True)\n",
      "  (dropout): Dropout(p=0.5, inplace=False)\n",
      ")\n"
     ]
    }
   ],
   "source": [
    "model = load_checkpoint('checkpoint.pth')\n",
    "print(model)"
   ]
  },
  {
   "cell_type": "code",
   "execution_count": null,
   "id": "c9b011fd",
   "metadata": {},
   "outputs": [],
   "source": []
  }
 ],
 "metadata": {
  "kernelspec": {
   "display_name": "Python 3",
   "language": "python",
   "name": "python3"
  },
  "language_info": {
   "codemirror_mode": {
    "name": "ipython",
    "version": 3
   },
   "file_extension": ".py",
   "mimetype": "text/x-python",
   "name": "python",
   "nbconvert_exporter": "python",
   "pygments_lexer": "ipython3",
   "version": "3.8.11"
  }
 },
 "nbformat": 4,
 "nbformat_minor": 5
}
