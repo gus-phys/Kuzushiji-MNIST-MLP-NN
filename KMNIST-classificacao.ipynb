{
 "cells": [
  {
   "cell_type": "markdown",
   "id": "e5aa5962-773d-4c74-b374-1dd16061c280",
   "metadata": {},
   "source": [
    "# Rede neural MLP como classificadora do dataset KMNIST"
   ]
  },
  {
   "cell_type": "markdown",
   "id": "8c12732b-3136-4b70-9b16-055631819201",
   "metadata": {},
   "source": [
    "## Bibliotecas"
   ]
  },
  {
   "cell_type": "code",
   "execution_count": 1,
   "id": "0534f65d-781f-46eb-9690-da46d43b32f6",
   "metadata": {},
   "outputs": [],
   "source": [
    "%matplotlib inline\n",
    "%config InlineBackend.figure_format = 'retina'\n",
    "\n",
    "import matplotlib.pyplot as plt\n",
    "\n",
    "import torch\n",
    "from torch import nn\n",
    "from torch import optim\n",
    "import torch.nn.functional as F\n",
    "from torchvision import datasets, transforms\n",
    "\n",
    "import helper\n",
    "import fc_model"
   ]
  },
  {
   "cell_type": "markdown",
   "id": "4cbad59b-582b-4830-97da-1307670f041f",
   "metadata": {},
   "source": [
    "## Importando o KMNIST"
   ]
  },
  {
   "cell_type": "markdown",
   "id": "1ac29954-5b3f-4387-a849-4913994976b6",
   "metadata": {},
   "source": [
    "### Definindo a transformação no dataset"
   ]
  },
  {
   "cell_type": "code",
   "execution_count": 10,
   "id": "6209c5e4-e548-4110-ba32-3ab33c2edde5",
   "metadata": {},
   "outputs": [],
   "source": [
    "# Define a transformação para normalizar os dados\n",
    "transform = transforms.Compose([transforms.RandomHorizontalFlip(p=0.5),\n",
    "                             transforms.ToTensor()])"
   ]
  },
  {
   "cell_type": "code",
   "execution_count": 11,
   "id": "c83307d0-4a34-46c4-8b97-87c88bbff82f",
   "metadata": {},
   "outputs": [],
   "source": [
    "# download e carrega os dados de treinamento\n",
    "trainset = datasets.KMNIST('~/data/', download=True, train=True, transform=transform)\n",
    "trainloader = torch.utils.data.DataLoader(trainset, batch_size=64, shuffle=True)\n",
    "\n",
    "# download e carrega os dados de validação/teste\n",
    "testset = datasets.KMNIST('~/data/', download=True, train=False, transform=transform)\n",
    "testloader = torch.utils.data.DataLoader(testset, batch_size=64, shuffle=True)"
   ]
  },
  {
   "cell_type": "markdown",
   "id": "4adc43bb-0f15-4b1a-8dba-2130f1806605",
   "metadata": {},
   "source": [
    "Exemplar das imagens"
   ]
  },
  {
   "cell_type": "code",
   "execution_count": 12,
   "id": "cfcb23fe-e447-4e6d-9f7f-f9f00588c6e9",
   "metadata": {},
   "outputs": [
    {
     "data": {
      "image/png": "[encoded data removed]",
      "text/plain": [
       "<Figure size 432x288 with 1 Axes>"
      ]
     },
     "metadata": {
      "image/png": {
       "height": 231,
       "width": 231
      },
      "needs_background": "light"
     },
     "output_type": "display_data"
    }
   ],
   "source": [
    "image, label = next(iter(trainloader))\n",
    "helper.imshow(image[0,:]);"
   ]
  },
  {
   "cell_type": "markdown",
   "id": "d0e01582-9359-44ad-b243-b731af61b3de",
   "metadata": {},
   "source": [
    "## Definindo os parâmetros da rede"
   ]
  },
  {
   "cell_type": "code",
   "execution_count": 15,
   "id": "f9579fce-111b-4519-967d-4ece6c87df8d",
   "metadata": {},
   "outputs": [],
   "source": [
    "# Model\n",
    "model = fc_model.Network(784, 10, [256, 128, 64])\n",
    "# Learning rate\n",
    "learning_rate = 0.01\n",
    "# Optimizer\n",
    "optimizer = torch.optim.SGD(model.parameters(), lr=learning_rate)\n",
    "# Criterion\n",
    "criterion = torch.nn.CrossEntropyLoss()\n",
    "# Epoch\n",
    "epochs = 2"
   ]
  },
  {
   "cell_type": "markdown",
   "id": "1fc90f18-2613-43a3-bc40-f1feda591ae8",
   "metadata": {},
   "source": [
    "## Treinando"
   ]
  },
  {
   "cell_type": "code",
   "execution_count": 14,
   "id": "55851cfe-2fd3-4702-8cb6-b866a83eb415",
   "metadata": {},
   "outputs": [
    {
     "name": "stdout",
     "output_type": "stream",
     "text": [
      "Epoch: 1/2..  Training Loss: 2.306..  Test Loss: 2.304..  Test Accuracy: 0.099\n",
      "Epoch: 1/2..  Training Loss: 2.304..  Test Loss: 2.303..  Test Accuracy: 0.099\n",
      "Epoch: 1/2..  Training Loss: 2.306..  Test Loss: 2.302..  Test Accuracy: 0.103\n",
      "Epoch: 1/2..  Training Loss: 2.305..  Test Loss: 2.302..  Test Accuracy: 0.104\n",
      "Epoch: 1/2..  Training Loss: 2.303..  Test Loss: 2.301..  Test Accuracy: 0.110\n",
      "Epoch: 1/2..  Training Loss: 2.303..  Test Loss: 2.300..  Test Accuracy: 0.106\n",
      "Epoch: 1/2..  Training Loss: 2.299..  Test Loss: 2.299..  Test Accuracy: 0.112\n",
      "Epoch: 1/2..  Training Loss: 2.298..  Test Loss: 2.298..  Test Accuracy: 0.118\n",
      "Epoch: 1/2..  Training Loss: 2.297..  Test Loss: 2.297..  Test Accuracy: 0.135\n",
      "Epoch: 1/2..  Training Loss: 2.296..  Test Loss: 2.296..  Test Accuracy: 0.162\n",
      "Epoch: 1/2..  Training Loss: 2.296..  Test Loss: 2.295..  Test Accuracy: 0.175\n",
      "Epoch: 1/2..  Training Loss: 2.292..  Test Loss: 2.294..  Test Accuracy: 0.189\n",
      "Epoch: 1/2..  Training Loss: 2.292..  Test Loss: 2.293..  Test Accuracy: 0.217\n",
      "Epoch: 1/2..  Training Loss: 2.291..  Test Loss: 2.291..  Test Accuracy: 0.222\n",
      "Epoch: 1/2..  Training Loss: 2.288..  Test Loss: 2.289..  Test Accuracy: 0.218\n",
      "Epoch: 1/2..  Training Loss: 2.285..  Test Loss: 2.287..  Test Accuracy: 0.213\n",
      "Epoch: 1/2..  Training Loss: 2.281..  Test Loss: 2.285..  Test Accuracy: 0.205\n",
      "Epoch: 1/2..  Training Loss: 2.278..  Test Loss: 2.282..  Test Accuracy: 0.209\n",
      "Epoch: 1/2..  Training Loss: 2.277..  Test Loss: 2.279..  Test Accuracy: 0.223\n",
      "Epoch: 1/2..  Training Loss: 2.271..  Test Loss: 2.275..  Test Accuracy: 0.231\n",
      "Epoch: 1/2..  Training Loss: 2.269..  Test Loss: 2.271..  Test Accuracy: 0.232\n",
      "Epoch: 1/2..  Training Loss: 2.264..  Test Loss: 2.266..  Test Accuracy: 0.243\n",
      "Epoch: 1/2..  Training Loss: 2.256..  Test Loss: 2.261..  Test Accuracy: 0.253\n",
      "Epoch: 2/2..  Training Loss: 2.248..  Test Loss: 2.254..  Test Accuracy: 0.252\n",
      "Epoch: 2/2..  Training Loss: 2.239..  Test Loss: 2.246..  Test Accuracy: 0.248\n",
      "Epoch: 2/2..  Training Loss: 2.221..  Test Loss: 2.236..  Test Accuracy: 0.240\n",
      "Epoch: 2/2..  Training Loss: 2.203..  Test Loss: 2.225..  Test Accuracy: 0.247\n",
      "Epoch: 2/2..  Training Loss: 2.199..  Test Loss: 2.214..  Test Accuracy: 0.268\n",
      "Epoch: 2/2..  Training Loss: 2.182..  Test Loss: 2.204..  Test Accuracy: 0.272\n",
      "Epoch: 2/2..  Training Loss: 2.156..  Test Loss: 2.193..  Test Accuracy: 0.288\n",
      "Epoch: 2/2..  Training Loss: 2.151..  Test Loss: 2.183..  Test Accuracy: 0.281\n",
      "Epoch: 2/2..  Training Loss: 2.145..  Test Loss: 2.174..  Test Accuracy: 0.273\n",
      "Epoch: 2/2..  Training Loss: 2.107..  Test Loss: 2.161..  Test Accuracy: 0.274\n",
      "Epoch: 2/2..  Training Loss: 2.100..  Test Loss: 2.156..  Test Accuracy: 0.273\n",
      "Epoch: 2/2..  Training Loss: 2.075..  Test Loss: 2.146..  Test Accuracy: 0.267\n",
      "Epoch: 2/2..  Training Loss: 2.056..  Test Loss: 2.144..  Test Accuracy: 0.282\n",
      "Epoch: 2/2..  Training Loss: 2.045..  Test Loss: 2.138..  Test Accuracy: 0.297\n",
      "Epoch: 2/2..  Training Loss: 2.037..  Test Loss: 2.131..  Test Accuracy: 0.296\n",
      "Epoch: 2/2..  Training Loss: 2.026..  Test Loss: 2.132..  Test Accuracy: 0.305\n",
      "Epoch: 2/2..  Training Loss: 2.010..  Test Loss: 2.129..  Test Accuracy: 0.288\n",
      "Epoch: 2/2..  Training Loss: 2.017..  Test Loss: 2.127..  Test Accuracy: 0.289\n",
      "Epoch: 2/2..  Training Loss: 1.999..  Test Loss: 2.121..  Test Accuracy: 0.296\n",
      "Epoch: 2/2..  Training Loss: 1.984..  Test Loss: 2.121..  Test Accuracy: 0.305\n",
      "Epoch: 2/2..  Training Loss: 1.984..  Test Loss: 2.120..  Test Accuracy: 0.303\n",
      "Epoch: 2/2..  Training Loss: 1.986..  Test Loss: 2.111..  Test Accuracy: 0.325\n",
      "Epoch: 2/2..  Training Loss: 1.945..  Test Loss: 2.106..  Test Accuracy: 0.315\n"
     ]
    }
   ],
   "source": [
    "fc_model.train(model, trainloader, testloader, criterion, optimizer, epochs)"
   ]
  },
  {
   "cell_type": "code",
   "execution_count": 16,
   "id": "9c884717-53f6-4513-abce-deb55fa4866b",
   "metadata": {},
   "outputs": [
    {
     "name": "stdout",
     "output_type": "stream",
     "text": [
      "Nosso modelo: \n",
      "\n",
      " Network(\n",
      "  (hidden_layers): ModuleList(\n",
      "    (0): Linear(in_features=784, out_features=256, bias=True)\n",
      "    (1): Linear(in_features=256, out_features=128, bias=True)\n",
      "    (2): Linear(in_features=128, out_features=64, bias=True)\n",
      "  )\n",
      "  (output): Linear(in_features=64, out_features=10, bias=True)\n",
      "  (dropout): Dropout(p=0.5, inplace=False)\n",
      ") \n",
      "\n",
      "As chaves do dicionário: \n",
      "\n",
      " odict_keys(['hidden_layers.0.weight', 'hidden_layers.0.bias', 'hidden_layers.1.weight', 'hidden_layers.1.bias', 'hidden_layers.2.weight', 'hidden_layers.2.bias', 'output.weight', 'output.bias'])\n"
     ]
    }
   ],
   "source": [
    "print(\"Nosso modelo: \\n\\n\", model, '\\n')\n",
    "print(\"As chaves do dicionário: \\n\\n\", model.state_dict().keys())"
   ]
  },
  {
   "cell_type": "code",
   "execution_count": null,
   "id": "250ca9d4-5ef3-4be2-8b8e-3863471f0c2e",
   "metadata": {},
   "outputs": [],
   "source": []
  },
  {
   "cell_type": "code",
   "execution_count": null,
   "id": "50f0cd38-827d-4bdf-83ff-26b15d03666f",
   "metadata": {},
   "outputs": [],
   "source": []
  },
  {
   "cell_type": "markdown",
   "id": "92f66c3a-7cba-432a-a800-8722d02f81ea",
   "metadata": {},
   "source": [
    "## Salvando e carregando o modelo"
   ]
  },
  {
   "cell_type": "code",
   "execution_count": 20,
   "id": "9ac2307c-2fd4-4661-8623-0346c7109538",
   "metadata": {},
   "outputs": [],
   "source": [
    "checkpoint = {'input_size': 784,\n",
    "              'output_size': 10,\n",
    "              'hidden_layers': [each.out_features for each in model.hidden_layers],\n",
    "              'state_dict': model.state_dict()}\n",
    "\n",
    "torch.save(checkpoint, 'checkpoint.pth')"
   ]
  },
  {
   "cell_type": "code",
   "execution_count": 21,
   "id": "a522631d-1f49-4b47-bffc-5aa42a373906",
   "metadata": {},
   "outputs": [],
   "source": [
    "def load_checkpoint(filepath):\n",
    "    checkpoint = torch.load(filepath)\n",
    "    model = fc_model.Network(checkpoint['input_size'],\n",
    "                             checkpoint['output_size'],\n",
    "                             checkpoint['hidden_layers'])\n",
    "    model.load_state_dict(checkpoint['state_dict'])\n",
    "    \n",
    "    return model"
   ]
  },
  {
   "cell_type": "code",
   "execution_count": 22,
   "id": "ee90abfc-f0e2-43f4-ab9f-fea68f205059",
   "metadata": {},
   "outputs": [
    {
     "name": "stdout",
     "output_type": "stream",
     "text": [
      "Network(\n",
      "  (hidden_layers): ModuleList(\n",
      "    (0): Linear(in_features=784, out_features=256, bias=True)\n",
      "    (1): Linear(in_features=256, out_features=128, bias=True)\n",
      "    (2): Linear(in_features=128, out_features=64, bias=True)\n",
      "  )\n",
      "  (output): Linear(in_features=64, out_features=10, bias=True)\n",
      "  (dropout): Dropout(p=0.5, inplace=False)\n",
      ")\n"
     ]
    }
   ],
   "source": [
    "model = load_checkpoint('checkpoint.pth')\n",
    "print(model)"
   ]
  },
  {
   "cell_type": "code",
   "execution_count": null,
   "id": "97701af3-7bf3-4bab-9782-3f51f462f7d5",
   "metadata": {},
   "outputs": [],
   "source": []
  }
 ],
 "metadata": {
  "kernelspec": {
   "display_name": "Python 3",
   "language": "python",
   "name": "python3"
  },
  "language_info": {
   "codemirror_mode": {
    "name": "ipython",
    "version": 3
   },
   "file_extension": ".py",
   "mimetype": "text/x-python",
   "name": "python",
   "nbconvert_exporter": "python",
   "pygments_lexer": "ipython3",
   "version": "3.8.11"
  }
 },
 "nbformat": 4,
 "nbformat_minor": 5
}
