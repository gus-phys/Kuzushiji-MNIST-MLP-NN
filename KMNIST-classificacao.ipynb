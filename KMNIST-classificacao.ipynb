{
 "cells": [
  {
   "cell_type": "markdown",
   "id": "643e311c-0d52-4836-b06e-90cb6d2f49b0",
   "metadata": {},
   "source": [
    "# Estudo da rede neural MLP como classificadora do dataset KMNIST"
   ]
  },
  {
   "cell_type": "markdown",
   "id": "35dd9beb-5e1b-46fb-8cda-8db02a8acbb1",
   "metadata": {},
   "source": [
    "## Bibliotecas"
   ]
  },
  {
   "cell_type": "code",
   "execution_count": 1,
   "id": "7e13f289-4ee0-4931-8f8c-4d2242c628c6",
   "metadata": {},
   "outputs": [],
   "source": [
    "import torch"
   ]
  },
  {
   "cell_type": "code",
   "execution_count": 2,
   "id": "ca1645a9-e1ff-44e1-864e-5ce57e32111c",
   "metadata": {},
   "outputs": [
    {
     "name": "stdout",
     "output_type": "stream",
     "text": [
      "Versão PyTorch:  1.8.1\n",
      "Usando GPU:  False\n"
     ]
    }
   ],
   "source": [
    "#  Verificando a versão do PyTorch e se está usando GPU\n",
    "print('Versão PyTorch: ', torch.__version__)\n",
    "print('Usando GPU: ', torch.cuda.is_available())\n",
    "\n",
    "if torch.cuda.is_available():    \n",
    "    print('GPU: ',torch.cuda.get_device_name(torch.cuda.current_device()))"
   ]
  },
  {
   "cell_type": "markdown",
   "id": "14ae7483",
   "metadata": {},
   "source": [
    "## Fixando o transform"
   ]
  },
  {
   "cell_type": "code",
   "execution_count": 3,
   "id": "7f05f8fc",
   "metadata": {},
   "outputs": [],
   "source": [
    "import torchvision.transforms as transforms\n",
    "import torchvision.datasets as dsets\n",
    "from torch import optim"
   ]
  },
  {
   "cell_type": "code",
   "execution_count": 4,
   "id": "06c081c2",
   "metadata": {},
   "outputs": [],
   "source": [
    "# Transform\n",
    "transform = transforms.Compose([\n",
    "    transforms.ToTensor(), \n",
    "    transforms.Normalize((0.5,), (0.5,))\n",
    "])"
   ]
  },
  {
   "cell_type": "markdown",
   "id": "ac11d982-bf8d-4286-8f6b-26efbd1f4e0a",
   "metadata": {},
   "source": [
    "## Leitura dos dados"
   ]
  },
  {
   "cell_type": "code",
   "execution_count": 5,
   "id": "8ecffb65-bdd2-4983-bf5f-7fad79e61030",
   "metadata": {},
   "outputs": [],
   "source": [
    "# Conjunto de treinamento\n",
    "trainset = dsets.KMNIST(root='~/data', train=True, transform=transform, download=True)\n",
    "trainloader = torch.utils.data.DataLoader(trainset, batch_size=64, shuffle=True)"
   ]
  },
  {
   "cell_type": "code",
   "execution_count": 6,
   "id": "148fdc1d",
   "metadata": {},
   "outputs": [],
   "source": [
    "# Conjunto de teste\n",
    "testset = dsets.KMNIST(root='~/data', train=False, transform=transform)\n",
    "testloader = torch.utils.data.DataLoader(testset, batch_size=64, shuffle=True)"
   ]
  },
  {
   "cell_type": "code",
   "execution_count": 7,
   "id": "1c41cf98-fef2-4406-9c3a-8f9b2f1ad133",
   "metadata": {},
   "outputs": [
    {
     "name": "stdout",
     "output_type": "stream",
     "text": [
      "> 60000 amostras de Treino e 10000 amostras de Teste\n"
     ]
    }
   ],
   "source": [
    "print(f\"> {len(trainset)} amostras de Treino e {len(testset)} amostras de Teste\")"
   ]
  },
  {
   "cell_type": "markdown",
   "id": "c286fbe1",
   "metadata": {},
   "source": [
    "## Plotando algumas imagens"
   ]
  },
  {
   "cell_type": "code",
   "execution_count": 8,
   "id": "5aa36fde",
   "metadata": {},
   "outputs": [],
   "source": [
    "import matplotlib.pyplot as plt"
   ]
  },
  {
   "cell_type": "code",
   "execution_count": 9,
   "id": "6bb4a404-a8b6-4b0f-95da-d71e2f70d707",
   "metadata": {},
   "outputs": [
    {
     "data": {
      "image/png": "[encoded data removed]",
      "text/plain": [
       "<Figure size 1200x400 with 8 Axes>"
      ]
     },
     "metadata": {},
     "output_type": "display_data"
    }
   ],
   "source": [
    "num_imagens = 8\n",
    "\n",
    "fig, axs = plt.subplots(1, num_imagens, figsize=(12,4))\n",
    "for i in range(num_imagens):\n",
    "    axs[i].imshow(trainset[i][0].reshape(28,28), cmap=plt.get_cmap(\"gray\"))\n",
    "\n",
    "plt.show()"
   ]
  },
  {
   "cell_type": "markdown",
   "id": "6e08070a",
   "metadata": {},
   "source": [
    "## Criando a rede"
   ]
  },
  {
   "cell_type": "code",
   "execution_count": 10,
   "id": "3c420d6c",
   "metadata": {},
   "outputs": [],
   "source": [
    "import torch.nn.functional as F\n",
    "from torch import nn"
   ]
  },
  {
   "cell_type": "code",
   "execution_count": 11,
   "id": "7cceec28",
   "metadata": {},
   "outputs": [],
   "source": [
    "class Classifier(nn.Module):\n",
    "    def __init__(self):\n",
    "        super().__init__()\n",
    "        self.fc1 = nn.Linear(784, 256)\n",
    "        self.fc2 = nn.Linear(256, 128)\n",
    "        self.fc3 = nn.Linear(128, 64)\n",
    "        self.fc4 = nn.Linear(64, 10)\n",
    "        \n",
    "    def forward(self, x):\n",
    "        # certificar que o tensor com as imagens foi 'achatado'\n",
    "        x = x.view(x.shape[0], -1)\n",
    "        \n",
    "        x = F.relu(self.fc1(x))\n",
    "        x = F.relu(self.fc2(x))\n",
    "        x = F.relu(self.fc3(x))\n",
    "        x = F.log_softmax(self.fc4(x), dim=1)\n",
    "        \n",
    "        return x"
   ]
  },
  {
   "cell_type": "markdown",
   "id": "cd970978",
   "metadata": {},
   "source": [
    "## Fixando os hiperparâmetros"
   ]
  },
  {
   "cell_type": "code",
   "execution_count": 12,
   "id": "47bee152",
   "metadata": {},
   "outputs": [],
   "source": [
    "model = Classifier()\n",
    "\n",
    "# Learning rate\n",
    "learning_rate = 0.003\n",
    "# Optimizer\n",
    "optimizer = optim.Adam(model.parameters(), lr=learning_rate)\n",
    "# Criterion\n",
    "criterion = nn.NLLLoss()\n",
    "# Epoch\n",
    "epochs = 30"
   ]
  },
  {
   "cell_type": "markdown",
   "id": "5559002c",
   "metadata": {},
   "source": [
    "## Treinando a rede"
   ]
  },
  {
   "cell_type": "code",
   "execution_count": 13,
   "id": "5ce8d1db",
   "metadata": {
    "scrolled": false
   },
   "outputs": [
    {
     "name": "stdout",
     "output_type": "stream",
     "text": [
      "Epoch: 1/30..  Training Loss: 0.461..  Test Loss: 0.612..  Test Accuracy: 0.820\n",
      "Epoch: 2/30..  Training Loss: 0.249..  Test Loss: 0.532..  Test Accuracy: 0.840\n",
      "Epoch: 3/30..  Training Loss: 0.191..  Test Loss: 0.481..  Test Accuracy: 0.864\n",
      "Epoch: 4/30..  Training Loss: 0.166..  Test Loss: 0.504..  Test Accuracy: 0.866\n",
      "Epoch: 5/30..  Training Loss: 0.146..  Test Loss: 0.521..  Test Accuracy: 0.866\n",
      "Epoch: 6/30..  Training Loss: 0.128..  Test Loss: 0.486..  Test Accuracy: 0.873\n",
      "Epoch: 7/30..  Training Loss: 0.125..  Test Loss: 0.493..  Test Accuracy: 0.874\n",
      "Epoch: 8/30..  Training Loss: 0.109..  Test Loss: 0.550..  Test Accuracy: 0.875\n",
      "Epoch: 9/30..  Training Loss: 0.105..  Test Loss: 0.495..  Test Accuracy: 0.880\n",
      "Epoch: 10/30..  Training Loss: 0.099..  Test Loss: 0.462..  Test Accuracy: 0.894\n",
      "Epoch: 11/30..  Training Loss: 0.093..  Test Loss: 0.532..  Test Accuracy: 0.883\n",
      "Epoch: 12/30..  Training Loss: 0.092..  Test Loss: 0.515..  Test Accuracy: 0.887\n",
      "Epoch: 13/30..  Training Loss: 0.087..  Test Loss: 0.501..  Test Accuracy: 0.898\n",
      "Epoch: 14/30..  Training Loss: 0.076..  Test Loss: 0.581..  Test Accuracy: 0.886\n",
      "Epoch: 15/30..  Training Loss: 0.081..  Test Loss: 0.586..  Test Accuracy: 0.890\n",
      "Epoch: 16/30..  Training Loss: 0.075..  Test Loss: 0.607..  Test Accuracy: 0.884\n",
      "Epoch: 17/30..  Training Loss: 0.074..  Test Loss: 0.567..  Test Accuracy: 0.888\n",
      "Epoch: 18/30..  Training Loss: 0.071..  Test Loss: 0.569..  Test Accuracy: 0.894\n",
      "Epoch: 19/30..  Training Loss: 0.069..  Test Loss: 0.604..  Test Accuracy: 0.888\n",
      "Epoch: 20/30..  Training Loss: 0.062..  Test Loss: 0.622..  Test Accuracy: 0.884\n",
      "Epoch: 21/30..  Training Loss: 0.067..  Test Loss: 0.593..  Test Accuracy: 0.895\n",
      "Epoch: 22/30..  Training Loss: 0.066..  Test Loss: 0.612..  Test Accuracy: 0.887\n",
      "Epoch: 23/30..  Training Loss: 0.064..  Test Loss: 0.618..  Test Accuracy: 0.896\n",
      "Epoch: 24/30..  Training Loss: 0.057..  Test Loss: 0.607..  Test Accuracy: 0.894\n",
      "Epoch: 25/30..  Training Loss: 0.053..  Test Loss: 0.650..  Test Accuracy: 0.893\n",
      "Epoch: 26/30..  Training Loss: 0.060..  Test Loss: 0.674..  Test Accuracy: 0.891\n",
      "Epoch: 27/30..  Training Loss: 0.059..  Test Loss: 0.657..  Test Accuracy: 0.897\n",
      "Epoch: 28/30..  Training Loss: 0.056..  Test Loss: 0.699..  Test Accuracy: 0.892\n",
      "Epoch: 29/30..  Training Loss: 0.052..  Test Loss: 0.691..  Test Accuracy: 0.901\n",
      "Epoch: 30/30..  Training Loss: 0.054..  Test Loss: 0.674..  Test Accuracy: 0.894\n"
     ]
    }
   ],
   "source": [
    "steps = 0\n",
    "\n",
    "train_losses, test_losses = [], []\n",
    "for e in range(epochs):\n",
    "    running_loss = 0\n",
    "    for images, labels in trainloader:\n",
    "        \n",
    "        optimizer.zero_grad()\n",
    "        \n",
    "        log_ps = model(images)\n",
    "        loss = criterion(log_ps, labels)\n",
    "        loss.backward()\n",
    "        optimizer.step()\n",
    "        \n",
    "        running_loss += loss.item()\n",
    "        \n",
    "    else:\n",
    "        # else pode ser usado em laços tipo for no python, e só será executado se não cair em nenhum break\n",
    "        test_loss = 0\n",
    "        accuracy = 0\n",
    "        with torch.no_grad():\n",
    "            # passo de validação\n",
    "            for images, labels in testloader:\n",
    "                log_ps = model(images)\n",
    "                ps = torch.exp(log_ps)\n",
    "                \n",
    "                test_loss += criterion(log_ps, labels)  \n",
    "                top_p, top_class = ps.topk(1, dim=1)\n",
    "                equals = top_class == labels.view(*top_class.shape)\n",
    "                accuracy+= torch.mean(equals.type(torch.FloatTensor))\n",
    "                \n",
    "        train_losses.append(running_loss / len(trainloader))\n",
    "        test_losses.append(test_loss / len(testloader))\n",
    "                \n",
    "        print(\"Epoch: {}/{}.. \".format(e+1, epochs),\n",
    "              \"Training Loss: {:.3f}.. \".format(train_losses[-1]),\n",
    "              \"Test Loss: {:.3f}.. \".format(test_losses[-1]),\n",
    "              \"Test Accuracy: {:.3f}\".format(accuracy/len(testloader)))"
   ]
  },
  {
   "cell_type": "markdown",
   "id": "bd8174f6",
   "metadata": {},
   "source": [
    "## Vizualização da rede treinada"
   ]
  },
  {
   "cell_type": "code",
   "execution_count": 14,
   "id": "2bc3256d",
   "metadata": {},
   "outputs": [
    {
     "data": {
      "image/png": "[encoded data removed]",
      "text/plain": [
       "<Figure size 432x648 with 2 Axes>"
      ]
     },
     "metadata": {
      "needs_background": "light"
     },
     "output_type": "display_data"
    }
   ],
   "source": [
    "%matplotlib inline\n",
    "import helper\n",
    "\n",
    "images, labels = next(iter(trainloader))\n",
    "\n",
    "img = images[0].view(1, 784)\n",
    "# desligando o gradiente para acelerar o processo\n",
    "with torch.no_grad():\n",
    "    logps = model(img)\n",
    "\n",
    "# As saidas da rede são o log da probabilidade.\n",
    "# Por isso precisamos fazer o exponencial para termos as probabilidades reais.\n",
    "ps = torch.exp(logps)\n",
    "helper.view_classify(img.view(1, 28, 28), ps)"
   ]
  },
  {
   "cell_type": "markdown",
   "id": "5c0d68e3",
   "metadata": {},
   "source": [
    "## Avaliando a rede"
   ]
  },
  {
   "cell_type": "code",
   "execution_count": 15,
   "id": "f19c78e5",
   "metadata": {},
   "outputs": [],
   "source": [
    "import pandas as pd\n",
    "from torch.autograd import Variable"
   ]
  },
  {
   "cell_type": "code",
   "execution_count": 16,
   "id": "403b7d0b",
   "metadata": {},
   "outputs": [],
   "source": [
    "predicted = []\n",
    "expected = []\n",
    "\n",
    "for image, label in testset:\n",
    "    image = Variable(image.view(-1, 28*28))\n",
    "    outputs = model(image)\n",
    "    _, prediction = torch.max(outputs.data, 1)\n",
    "    predicted.append(prediction.item())\n",
    "    expected.append(label)"
   ]
  },
  {
   "cell_type": "code",
   "execution_count": 17,
   "id": "8bce788e",
   "metadata": {},
   "outputs": [
    {
     "data": {
      "text/html": [
       "<div>\n",
       "<style scoped>\n",
       "    .dataframe tbody tr th:only-of-type {\n",
       "        vertical-align: middle;\n",
       "    }\n",
       "\n",
       "    .dataframe tbody tr th {\n",
       "        vertical-align: top;\n",
       "    }\n",
       "\n",
       "    .dataframe thead th {\n",
       "        text-align: right;\n",
       "    }\n",
       "</style>\n",
       "<table border=\"1\" class=\"dataframe\">\n",
       "  <thead>\n",
       "    <tr style=\"text-align: right;\">\n",
       "      <th></th>\n",
       "      <th>predicted</th>\n",
       "      <th>expected</th>\n",
       "    </tr>\n",
       "  </thead>\n",
       "  <tbody>\n",
       "    <tr>\n",
       "      <th>0</th>\n",
       "      <td>5</td>\n",
       "      <td>2</td>\n",
       "    </tr>\n",
       "    <tr>\n",
       "      <th>1</th>\n",
       "      <td>9</td>\n",
       "      <td>9</td>\n",
       "    </tr>\n",
       "    <tr>\n",
       "      <th>2</th>\n",
       "      <td>3</td>\n",
       "      <td>3</td>\n",
       "    </tr>\n",
       "    <tr>\n",
       "      <th>3</th>\n",
       "      <td>8</td>\n",
       "      <td>8</td>\n",
       "    </tr>\n",
       "    <tr>\n",
       "      <th>4</th>\n",
       "      <td>3</td>\n",
       "      <td>3</td>\n",
       "    </tr>\n",
       "    <tr>\n",
       "      <th>...</th>\n",
       "      <td>...</td>\n",
       "      <td>...</td>\n",
       "    </tr>\n",
       "    <tr>\n",
       "      <th>9995</th>\n",
       "      <td>4</td>\n",
       "      <td>4</td>\n",
       "    </tr>\n",
       "    <tr>\n",
       "      <th>9996</th>\n",
       "      <td>0</td>\n",
       "      <td>0</td>\n",
       "    </tr>\n",
       "    <tr>\n",
       "      <th>9997</th>\n",
       "      <td>2</td>\n",
       "      <td>9</td>\n",
       "    </tr>\n",
       "    <tr>\n",
       "      <th>9998</th>\n",
       "      <td>4</td>\n",
       "      <td>4</td>\n",
       "    </tr>\n",
       "    <tr>\n",
       "      <th>9999</th>\n",
       "      <td>9</td>\n",
       "      <td>2</td>\n",
       "    </tr>\n",
       "  </tbody>\n",
       "</table>\n",
       "<p>10000 rows × 2 columns</p>\n",
       "</div>"
      ],
      "text/plain": [
       "      predicted  expected\n",
       "0             5         2\n",
       "1             9         9\n",
       "2             3         3\n",
       "3             8         8\n",
       "4             3         3\n",
       "...         ...       ...\n",
       "9995          4         4\n",
       "9996          0         0\n",
       "9997          2         9\n",
       "9998          4         4\n",
       "9999          9         2\n",
       "\n",
       "[10000 rows x 2 columns]"
      ]
     },
     "execution_count": 17,
     "metadata": {},
     "output_type": "execute_result"
    }
   ],
   "source": [
    "results = pd.DataFrame({'predicted': predicted, 'expected':expected})\n",
    "results"
   ]
  },
  {
   "cell_type": "markdown",
   "id": "ae80e62c",
   "metadata": {},
   "source": [
    "### Acurácia"
   ]
  },
  {
   "cell_type": "code",
   "execution_count": 18,
   "id": "926af9ce",
   "metadata": {},
   "outputs": [
    {
     "name": "stdout",
     "output_type": "stream",
     "text": [
      "Acurácia do modelo: 0.8937\n"
     ]
    }
   ],
   "source": [
    "accuracy = (results['predicted'] == results['expected']).sum()/len(results)\n",
    "print(f\"Acurácia do modelo: {accuracy}\")"
   ]
  },
  {
   "cell_type": "markdown",
   "id": "71117617",
   "metadata": {},
   "source": [
    "### Matriz de confusão"
   ]
  },
  {
   "cell_type": "code",
   "execution_count": 19,
   "id": "a96ea39c",
   "metadata": {},
   "outputs": [],
   "source": [
    "import seaborn as sns\n",
    "from sklearn.metrics import confusion_matrix"
   ]
  },
  {
   "cell_type": "code",
   "execution_count": 20,
   "id": "0feeee29",
   "metadata": {},
   "outputs": [
    {
     "data": {
      "image/png": "[encoded data removed]",
      "text/plain": [
       "<Figure size 720x504 with 2 Axes>"
      ]
     },
     "metadata": {
      "needs_background": "light"
     },
     "output_type": "display_data"
    }
   ],
   "source": [
    "cm = confusion_matrix(predicted, expected)\n",
    "df_cm = pd.DataFrame(cm)\n",
    "df_cm.index.name = \"Valores Reais\"\n",
    "df_cm.columns.name = \"Valor Estimados\"\n",
    "plt.figure(figsize = (10,7))\n",
    "sns.set(font_scale=1.2)\n",
    "sns.heatmap(df_cm, cmap=\"Blues\", annot=True, fmt=\"d\", annot_kws={\"size\": 10})\n",
    "plt.show()"
   ]
  },
  {
   "cell_type": "code",
   "execution_count": null,
   "id": "56c67121",
   "metadata": {},
   "outputs": [],
   "source": []
  },
  {
   "cell_type": "code",
   "execution_count": null,
   "id": "72fcc6c5",
   "metadata": {},
   "outputs": [],
   "source": []
  },
  {
   "cell_type": "code",
   "execution_count": null,
   "id": "ac513496",
   "metadata": {},
   "outputs": [],
   "source": []
  },
  {
   "cell_type": "code",
   "execution_count": null,
   "id": "1b15dc50",
   "metadata": {},
   "outputs": [],
   "source": []
  },
  {
   "cell_type": "code",
   "execution_count": null,
   "id": "3aee5cac",
   "metadata": {},
   "outputs": [],
   "source": []
  }
 ],
 "metadata": {
  "kernelspec": {
   "display_name": "Python 3",
   "language": "python",
   "name": "python3"
  },
  "language_info": {
   "codemirror_mode": {
    "name": "ipython",
    "version": 3
   },
   "file_extension": ".py",
   "mimetype": "text/x-python",
   "name": "python",
   "nbconvert_exporter": "python",
   "pygments_lexer": "ipython3",
   "version": "3.8.11"
  }
 },
 "nbformat": 4,
 "nbformat_minor": 5
}
